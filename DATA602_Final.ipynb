{
  "cells": [
    {
      "cell_type": "markdown",
      "source": [
        "### **Introduction**\n",
        "In this project, we aim to build a robust hate speech detection system using machine learning and deep learning techniques. With the exponential growth of social media platforms, hate speech has become a significant concern due to its adverse social and psychological impacts. This project focuses on analyzing, preprocessing, and classifying textual data into two categories: Hate Speech and Non-Hate Speech.\n",
        "\n",
        "#### **What is your topic?**\n",
        "The topic of this project is Hate Speech Detection. This project focuses on identifying hateful\n",
        "text from social media platforms using Natural Language Processing (NLP) techniques and machine\n",
        "learning models.\n",
        "#### **What is the main motivation for your work?**\n",
        "The main motivation for this project stems from the growing prevalence of hate speech on social\n",
        "media. Social media text often contains hateful content disguised with emoticons, slang, or modern\n",
        "trends, making it challenging to detect automatically. This dataset is designed to train machine\n",
        "learning models to identify hate speech effectively. It reflects current social media trends and aids in\n",
        "developing automated systems to filter out such content. The dataset is neutralized, preprocessed,\n",
        "and composed of text sentences categorized as hateful (”1”) or non-hateful (”0”). This work\n",
        "provides a benchmark dataset for hate speech detection, helping practitioners in Deep Learning\n",
        "(DL) and NLP while maintaining compliance with policy guidelines to mitigate cyber harm.\n"
      ],
      "metadata": {
        "id": "viVy4SyQ69kv"
      },
      "id": "viVy4SyQ69kv"
    },
    {
      "cell_type": "markdown",
      "source": [
        "### **Project Workflow**\n",
        "In this project, we are focusing on the following key steps:\n",
        "\n",
        "1. **Dataset Curation and Preprocessing**\n",
        "\n",
        "2. **Data Exploration and Summary Statistics**\n",
        "\n",
        "3. **ML Algorithm Design/Development**:\n",
        "    - **DistilBERT**\n",
        "    - **LSTM**\n",
        "    - **Naive Bayes**\n",
        "\n",
        "4. **ML Algorithm Training and Test Data Analysis**\n",
        "\n",
        "5. **Visualization, Result Analysis, Conclusion**.\n"
      ],
      "metadata": {
        "id": "XBY3B2xNCHFF"
      },
      "id": "XBY3B2xNCHFF"
    },
    {
      "cell_type": "markdown",
      "source": [
        "Installing the Required Libraries"
      ],
      "metadata": {
        "id": "BwHkjGSHDR8Q"
      },
      "id": "BwHkjGSHDR8Q"
    },
    {
      "cell_type": "code",
      "source": [
        "!pip install nltk vaderSentiment"
      ],
      "metadata": {
        "colab": {
          "base_uri": "https://localhost:8080/"
        },
        "id": "F7eVbYj3-iH_",
        "outputId": "f30d1f29-7de6-442c-bef2-8ef6ca8bc247"
      },
      "id": "F7eVbYj3-iH_",
      "execution_count": 2,
      "outputs": [
        {
          "output_type": "stream",
          "name": "stdout",
          "text": [
            "Requirement already satisfied: nltk in /usr/local/lib/python3.10/dist-packages (3.9.1)\n",
            "Collecting vaderSentiment\n",
            "  Downloading vaderSentiment-3.3.2-py2.py3-none-any.whl.metadata (572 bytes)\n",
            "Requirement already satisfied: click in /usr/local/lib/python3.10/dist-packages (from nltk) (8.1.7)\n",
            "Requirement already satisfied: joblib in /usr/local/lib/python3.10/dist-packages (from nltk) (1.4.2)\n",
            "Requirement already satisfied: regex>=2021.8.3 in /usr/local/lib/python3.10/dist-packages (from nltk) (2024.9.11)\n",
            "Requirement already satisfied: tqdm in /usr/local/lib/python3.10/dist-packages (from nltk) (4.66.6)\n",
            "Requirement already satisfied: requests in /usr/local/lib/python3.10/dist-packages (from vaderSentiment) (2.32.3)\n",
            "Requirement already satisfied: charset-normalizer<4,>=2 in /usr/local/lib/python3.10/dist-packages (from requests->vaderSentiment) (3.4.0)\n",
            "Requirement already satisfied: idna<4,>=2.5 in /usr/local/lib/python3.10/dist-packages (from requests->vaderSentiment) (3.10)\n",
            "Requirement already satisfied: urllib3<3,>=1.21.1 in /usr/local/lib/python3.10/dist-packages (from requests->vaderSentiment) (2.2.3)\n",
            "Requirement already satisfied: certifi>=2017.4.17 in /usr/local/lib/python3.10/dist-packages (from requests->vaderSentiment) (2024.8.30)\n",
            "Downloading vaderSentiment-3.3.2-py2.py3-none-any.whl (125 kB)\n",
            "\u001b[?25l   \u001b[90m━━━━━━━━━━━━━━━━━━━━━━━━━━━━━━━━━━━━━━━━\u001b[0m \u001b[32m0.0/126.0 kB\u001b[0m \u001b[31m?\u001b[0m eta \u001b[36m-:--:--\u001b[0m\r\u001b[2K   \u001b[90m━━━━━━━━━━━━━━━━━━━━━━━━━━━━━━━━━━━━━━━━\u001b[0m \u001b[32m126.0/126.0 kB\u001b[0m \u001b[31m8.3 MB/s\u001b[0m eta \u001b[36m0:00:00\u001b[0m\n",
            "\u001b[?25hInstalling collected packages: vaderSentiment\n",
            "Successfully installed vaderSentiment-3.3.2\n"
          ]
        }
      ]
    },
    {
      "cell_type": "code",
      "execution_count": 23,
      "id": "58f3576f-b9aa-4453-bed8-70ffe9ba8e19",
      "metadata": {
        "id": "58f3576f-b9aa-4453-bed8-70ffe9ba8e19",
        "colab": {
          "base_uri": "https://localhost:8080/"
        },
        "outputId": "5d329eff-8f03-4363-fe48-61c3c981c8d5"
      },
      "outputs": [
        {
          "output_type": "stream",
          "name": "stdout",
          "text": [
            "Collecting langdetect\n",
            "  Downloading langdetect-1.0.9.tar.gz (981 kB)\n",
            "\u001b[?25l     \u001b[90m━━━━━━━━━━━━━━━━━━━━━━━━━━━━━━━━━━━━━━━━\u001b[0m \u001b[32m0.0/981.5 kB\u001b[0m \u001b[31m?\u001b[0m eta \u001b[36m-:--:--\u001b[0m\r\u001b[2K     \u001b[91m━━━━━━━━━━━━━━━━━━━━━━━\u001b[0m\u001b[90m╺\u001b[0m\u001b[90m━━━━━━━━━━━━━━━━\u001b[0m \u001b[32m573.4/981.5 kB\u001b[0m \u001b[31m17.3 MB/s\u001b[0m eta \u001b[36m0:00:01\u001b[0m\r\u001b[2K     \u001b[90m━━━━━━━━━━━━━━━━━━━━━━━━━━━━━━━━━━━━━━━━\u001b[0m \u001b[32m981.5/981.5 kB\u001b[0m \u001b[31m19.3 MB/s\u001b[0m eta \u001b[36m0:00:00\u001b[0m\n",
            "\u001b[?25h  Preparing metadata (setup.py) ... \u001b[?25l\u001b[?25hdone\n",
            "Requirement already satisfied: six in /usr/local/lib/python3.10/dist-packages (from langdetect) (1.16.0)\n",
            "Building wheels for collected packages: langdetect\n",
            "  Building wheel for langdetect (setup.py) ... \u001b[?25l\u001b[?25hdone\n",
            "  Created wheel for langdetect: filename=langdetect-1.0.9-py3-none-any.whl size=993222 sha256=f534e5aef4c68e8d7cb0c03a6862063d6e6fa4d4401b5b4f2c3d4370bfc68653\n",
            "  Stored in directory: /root/.cache/pip/wheels/95/03/7d/59ea870c70ce4e5a370638b5462a7711ab78fba2f655d05106\n",
            "Successfully built langdetect\n",
            "Installing collected packages: langdetect\n",
            "Successfully installed langdetect-1.0.9\n"
          ]
        }
      ],
      "source": [
        "!pip install langdetect"
      ]
    },
    {
      "cell_type": "code",
      "execution_count": 55,
      "id": "c999edf4-94e6-4551-8fe6-01c4da8bee5b",
      "metadata": {
        "id": "c999edf4-94e6-4551-8fe6-01c4da8bee5b",
        "colab": {
          "base_uri": "https://localhost:8080/"
        },
        "outputId": "81c2e701-c02c-4789-8773-080cbc32bddd"
      },
      "outputs": [
        {
          "output_type": "stream",
          "name": "stdout",
          "text": [
            "Requirement already satisfied: transformers in /usr/local/lib/python3.10/dist-packages (4.46.3)\n",
            "Requirement already satisfied: filelock in /usr/local/lib/python3.10/dist-packages (from transformers) (3.16.1)\n",
            "Requirement already satisfied: huggingface-hub<1.0,>=0.23.2 in /usr/local/lib/python3.10/dist-packages (from transformers) (0.26.3)\n",
            "Requirement already satisfied: numpy>=1.17 in /usr/local/lib/python3.10/dist-packages (from transformers) (1.26.4)\n",
            "Requirement already satisfied: packaging>=20.0 in /usr/local/lib/python3.10/dist-packages (from transformers) (24.2)\n",
            "Requirement already satisfied: pyyaml>=5.1 in /usr/local/lib/python3.10/dist-packages (from transformers) (6.0.2)\n",
            "Requirement already satisfied: regex!=2019.12.17 in /usr/local/lib/python3.10/dist-packages (from transformers) (2024.9.11)\n",
            "Requirement already satisfied: requests in /usr/local/lib/python3.10/dist-packages (from transformers) (2.32.3)\n",
            "Requirement already satisfied: tokenizers<0.21,>=0.20 in /usr/local/lib/python3.10/dist-packages (from transformers) (0.20.3)\n",
            "Requirement already satisfied: safetensors>=0.4.1 in /usr/local/lib/python3.10/dist-packages (from transformers) (0.4.5)\n",
            "Requirement already satisfied: tqdm>=4.27 in /usr/local/lib/python3.10/dist-packages (from transformers) (4.66.6)\n",
            "Requirement already satisfied: fsspec>=2023.5.0 in /usr/local/lib/python3.10/dist-packages (from huggingface-hub<1.0,>=0.23.2->transformers) (2024.10.0)\n",
            "Requirement already satisfied: typing-extensions>=3.7.4.3 in /usr/local/lib/python3.10/dist-packages (from huggingface-hub<1.0,>=0.23.2->transformers) (4.12.2)\n",
            "Requirement already satisfied: charset-normalizer<4,>=2 in /usr/local/lib/python3.10/dist-packages (from requests->transformers) (3.4.0)\n",
            "Requirement already satisfied: idna<4,>=2.5 in /usr/local/lib/python3.10/dist-packages (from requests->transformers) (3.10)\n",
            "Requirement already satisfied: urllib3<3,>=1.21.1 in /usr/local/lib/python3.10/dist-packages (from requests->transformers) (2.2.3)\n",
            "Requirement already satisfied: certifi>=2017.4.17 in /usr/local/lib/python3.10/dist-packages (from requests->transformers) (2024.8.30)\n"
          ]
        }
      ],
      "source": [
        "!pip install transformers"
      ]
    },
    {
      "cell_type": "markdown",
      "source": [
        "#### Importing the required libraries"
      ],
      "metadata": {
        "id": "AFIMktzE96js"
      },
      "id": "AFIMktzE96js"
    },
    {
      "cell_type": "code",
      "execution_count": 3,
      "id": "7dcaee2f-6db6-4bf1-9212-c6874198106c",
      "metadata": {
        "id": "7dcaee2f-6db6-4bf1-9212-c6874198106c"
      },
      "outputs": [],
      "source": [
        "import pandas as pd\n",
        "import re\n",
        "import nltk\n",
        "from nltk.corpus import stopwords\n",
        "from nltk.stem import PorterStemmer, WordNetLemmatizer\n",
        "from sklearn.model_selection import train_test_split\n",
        "import string\n",
        "from vaderSentiment.vaderSentiment import SentimentIntensityAnalyzer\n",
        "from scipy import stats\n",
        "import numpy as np\n",
        "import matplotlib.pyplot as plt\n",
        "from wordcloud import WordCloud, STOPWORDS\n",
        "import seaborn as sns\n",
        "from collections import Counter"
      ]
    },
    {
      "cell_type": "code",
      "execution_count": 5,
      "id": "5a63e2fc-a3aa-4d23-90c6-94b1fa33aeb7",
      "metadata": {
        "id": "5a63e2fc-a3aa-4d23-90c6-94b1fa33aeb7"
      },
      "outputs": [],
      "source": [
        "df = pd.read_csv(\"HateSpeechDatasetBalanced.csv\")"
      ]
    },
    {
      "cell_type": "code",
      "execution_count": 6,
      "id": "b7f5bea1-f67f-4bdd-8289-e290701fb47a",
      "metadata": {
        "id": "b7f5bea1-f67f-4bdd-8289-e290701fb47a",
        "colab": {
          "base_uri": "https://localhost:8080/"
        },
        "outputId": "7d905f6a-d698-4553-8e63-0c9ed033ff8c"
      },
      "outputs": [
        {
          "output_type": "execute_result",
          "data": {
            "text/plain": [
              "(726119, 2)"
            ]
          },
          "metadata": {},
          "execution_count": 6
        }
      ],
      "source": [
        "df.shape"
      ]
    },
    {
      "cell_type": "code",
      "execution_count": 19,
      "id": "8942222d-8189-444c-b70c-47c4f71567de",
      "metadata": {
        "id": "8942222d-8189-444c-b70c-47c4f71567de",
        "colab": {
          "base_uri": "https://localhost:8080/",
          "height": 206
        },
        "outputId": "4ba92de1-1142-46da-8ab7-be22c6208026"
      },
      "outputs": [
        {
          "output_type": "execute_result",
          "data": {
            "text/plain": [
              "                                             Content  Label\n",
              "0  denial of normal the con be asked to comment o...      1\n",
              "1  just by being able to tweet this insufferable ...      1\n",
              "2  that is retarded you too cute to be single tha...      1\n",
              "3  thought of a real badass mongol style declarat...      1\n",
              "4                                afro american basho      1"
            ],
            "text/html": [
              "\n",
              "  <div id=\"df-8a237678-87be-4afd-9a48-e65ec576797d\" class=\"colab-df-container\">\n",
              "    <div>\n",
              "<style scoped>\n",
              "    .dataframe tbody tr th:only-of-type {\n",
              "        vertical-align: middle;\n",
              "    }\n",
              "\n",
              "    .dataframe tbody tr th {\n",
              "        vertical-align: top;\n",
              "    }\n",
              "\n",
              "    .dataframe thead th {\n",
              "        text-align: right;\n",
              "    }\n",
              "</style>\n",
              "<table border=\"1\" class=\"dataframe\">\n",
              "  <thead>\n",
              "    <tr style=\"text-align: right;\">\n",
              "      <th></th>\n",
              "      <th>Content</th>\n",
              "      <th>Label</th>\n",
              "    </tr>\n",
              "  </thead>\n",
              "  <tbody>\n",
              "    <tr>\n",
              "      <th>0</th>\n",
              "      <td>denial of normal the con be asked to comment o...</td>\n",
              "      <td>1</td>\n",
              "    </tr>\n",
              "    <tr>\n",
              "      <th>1</th>\n",
              "      <td>just by being able to tweet this insufferable ...</td>\n",
              "      <td>1</td>\n",
              "    </tr>\n",
              "    <tr>\n",
              "      <th>2</th>\n",
              "      <td>that is retarded you too cute to be single tha...</td>\n",
              "      <td>1</td>\n",
              "    </tr>\n",
              "    <tr>\n",
              "      <th>3</th>\n",
              "      <td>thought of a real badass mongol style declarat...</td>\n",
              "      <td>1</td>\n",
              "    </tr>\n",
              "    <tr>\n",
              "      <th>4</th>\n",
              "      <td>afro american basho</td>\n",
              "      <td>1</td>\n",
              "    </tr>\n",
              "  </tbody>\n",
              "</table>\n",
              "</div>\n",
              "    <div class=\"colab-df-buttons\">\n",
              "\n",
              "  <div class=\"colab-df-container\">\n",
              "    <button class=\"colab-df-convert\" onclick=\"convertToInteractive('df-8a237678-87be-4afd-9a48-e65ec576797d')\"\n",
              "            title=\"Convert this dataframe to an interactive table.\"\n",
              "            style=\"display:none;\">\n",
              "\n",
              "  <svg xmlns=\"http://www.w3.org/2000/svg\" height=\"24px\" viewBox=\"0 -960 960 960\">\n",
              "    <path d=\"M120-120v-720h720v720H120Zm60-500h600v-160H180v160Zm220 220h160v-160H400v160Zm0 220h160v-160H400v160ZM180-400h160v-160H180v160Zm440 0h160v-160H620v160ZM180-180h160v-160H180v160Zm440 0h160v-160H620v160Z\"/>\n",
              "  </svg>\n",
              "    </button>\n",
              "\n",
              "  <style>\n",
              "    .colab-df-container {\n",
              "      display:flex;\n",
              "      gap: 12px;\n",
              "    }\n",
              "\n",
              "    .colab-df-convert {\n",
              "      background-color: #E8F0FE;\n",
              "      border: none;\n",
              "      border-radius: 50%;\n",
              "      cursor: pointer;\n",
              "      display: none;\n",
              "      fill: #1967D2;\n",
              "      height: 32px;\n",
              "      padding: 0 0 0 0;\n",
              "      width: 32px;\n",
              "    }\n",
              "\n",
              "    .colab-df-convert:hover {\n",
              "      background-color: #E2EBFA;\n",
              "      box-shadow: 0px 1px 2px rgba(60, 64, 67, 0.3), 0px 1px 3px 1px rgba(60, 64, 67, 0.15);\n",
              "      fill: #174EA6;\n",
              "    }\n",
              "\n",
              "    .colab-df-buttons div {\n",
              "      margin-bottom: 4px;\n",
              "    }\n",
              "\n",
              "    [theme=dark] .colab-df-convert {\n",
              "      background-color: #3B4455;\n",
              "      fill: #D2E3FC;\n",
              "    }\n",
              "\n",
              "    [theme=dark] .colab-df-convert:hover {\n",
              "      background-color: #434B5C;\n",
              "      box-shadow: 0px 1px 3px 1px rgba(0, 0, 0, 0.15);\n",
              "      filter: drop-shadow(0px 1px 2px rgba(0, 0, 0, 0.3));\n",
              "      fill: #FFFFFF;\n",
              "    }\n",
              "  </style>\n",
              "\n",
              "    <script>\n",
              "      const buttonEl =\n",
              "        document.querySelector('#df-8a237678-87be-4afd-9a48-e65ec576797d button.colab-df-convert');\n",
              "      buttonEl.style.display =\n",
              "        google.colab.kernel.accessAllowed ? 'block' : 'none';\n",
              "\n",
              "      async function convertToInteractive(key) {\n",
              "        const element = document.querySelector('#df-8a237678-87be-4afd-9a48-e65ec576797d');\n",
              "        const dataTable =\n",
              "          await google.colab.kernel.invokeFunction('convertToInteractive',\n",
              "                                                    [key], {});\n",
              "        if (!dataTable) return;\n",
              "\n",
              "        const docLinkHtml = 'Like what you see? Visit the ' +\n",
              "          '<a target=\"_blank\" href=https://colab.research.google.com/notebooks/data_table.ipynb>data table notebook</a>'\n",
              "          + ' to learn more about interactive tables.';\n",
              "        element.innerHTML = '';\n",
              "        dataTable['output_type'] = 'display_data';\n",
              "        await google.colab.output.renderOutput(dataTable, element);\n",
              "        const docLink = document.createElement('div');\n",
              "        docLink.innerHTML = docLinkHtml;\n",
              "        element.appendChild(docLink);\n",
              "      }\n",
              "    </script>\n",
              "  </div>\n",
              "\n",
              "\n",
              "<div id=\"df-f180b4b1-0b03-4c01-a831-e7148ec66710\">\n",
              "  <button class=\"colab-df-quickchart\" onclick=\"quickchart('df-f180b4b1-0b03-4c01-a831-e7148ec66710')\"\n",
              "            title=\"Suggest charts\"\n",
              "            style=\"display:none;\">\n",
              "\n",
              "<svg xmlns=\"http://www.w3.org/2000/svg\" height=\"24px\"viewBox=\"0 0 24 24\"\n",
              "     width=\"24px\">\n",
              "    <g>\n",
              "        <path d=\"M19 3H5c-1.1 0-2 .9-2 2v14c0 1.1.9 2 2 2h14c1.1 0 2-.9 2-2V5c0-1.1-.9-2-2-2zM9 17H7v-7h2v7zm4 0h-2V7h2v10zm4 0h-2v-4h2v4z\"/>\n",
              "    </g>\n",
              "</svg>\n",
              "  </button>\n",
              "\n",
              "<style>\n",
              "  .colab-df-quickchart {\n",
              "      --bg-color: #E8F0FE;\n",
              "      --fill-color: #1967D2;\n",
              "      --hover-bg-color: #E2EBFA;\n",
              "      --hover-fill-color: #174EA6;\n",
              "      --disabled-fill-color: #AAA;\n",
              "      --disabled-bg-color: #DDD;\n",
              "  }\n",
              "\n",
              "  [theme=dark] .colab-df-quickchart {\n",
              "      --bg-color: #3B4455;\n",
              "      --fill-color: #D2E3FC;\n",
              "      --hover-bg-color: #434B5C;\n",
              "      --hover-fill-color: #FFFFFF;\n",
              "      --disabled-bg-color: #3B4455;\n",
              "      --disabled-fill-color: #666;\n",
              "  }\n",
              "\n",
              "  .colab-df-quickchart {\n",
              "    background-color: var(--bg-color);\n",
              "    border: none;\n",
              "    border-radius: 50%;\n",
              "    cursor: pointer;\n",
              "    display: none;\n",
              "    fill: var(--fill-color);\n",
              "    height: 32px;\n",
              "    padding: 0;\n",
              "    width: 32px;\n",
              "  }\n",
              "\n",
              "  .colab-df-quickchart:hover {\n",
              "    background-color: var(--hover-bg-color);\n",
              "    box-shadow: 0 1px 2px rgba(60, 64, 67, 0.3), 0 1px 3px 1px rgba(60, 64, 67, 0.15);\n",
              "    fill: var(--button-hover-fill-color);\n",
              "  }\n",
              "\n",
              "  .colab-df-quickchart-complete:disabled,\n",
              "  .colab-df-quickchart-complete:disabled:hover {\n",
              "    background-color: var(--disabled-bg-color);\n",
              "    fill: var(--disabled-fill-color);\n",
              "    box-shadow: none;\n",
              "  }\n",
              "\n",
              "  .colab-df-spinner {\n",
              "    border: 2px solid var(--fill-color);\n",
              "    border-color: transparent;\n",
              "    border-bottom-color: var(--fill-color);\n",
              "    animation:\n",
              "      spin 1s steps(1) infinite;\n",
              "  }\n",
              "\n",
              "  @keyframes spin {\n",
              "    0% {\n",
              "      border-color: transparent;\n",
              "      border-bottom-color: var(--fill-color);\n",
              "      border-left-color: var(--fill-color);\n",
              "    }\n",
              "    20% {\n",
              "      border-color: transparent;\n",
              "      border-left-color: var(--fill-color);\n",
              "      border-top-color: var(--fill-color);\n",
              "    }\n",
              "    30% {\n",
              "      border-color: transparent;\n",
              "      border-left-color: var(--fill-color);\n",
              "      border-top-color: var(--fill-color);\n",
              "      border-right-color: var(--fill-color);\n",
              "    }\n",
              "    40% {\n",
              "      border-color: transparent;\n",
              "      border-right-color: var(--fill-color);\n",
              "      border-top-color: var(--fill-color);\n",
              "    }\n",
              "    60% {\n",
              "      border-color: transparent;\n",
              "      border-right-color: var(--fill-color);\n",
              "    }\n",
              "    80% {\n",
              "      border-color: transparent;\n",
              "      border-right-color: var(--fill-color);\n",
              "      border-bottom-color: var(--fill-color);\n",
              "    }\n",
              "    90% {\n",
              "      border-color: transparent;\n",
              "      border-bottom-color: var(--fill-color);\n",
              "    }\n",
              "  }\n",
              "</style>\n",
              "\n",
              "  <script>\n",
              "    async function quickchart(key) {\n",
              "      const quickchartButtonEl =\n",
              "        document.querySelector('#' + key + ' button');\n",
              "      quickchartButtonEl.disabled = true;  // To prevent multiple clicks.\n",
              "      quickchartButtonEl.classList.add('colab-df-spinner');\n",
              "      try {\n",
              "        const charts = await google.colab.kernel.invokeFunction(\n",
              "            'suggestCharts', [key], {});\n",
              "      } catch (error) {\n",
              "        console.error('Error during call to suggestCharts:', error);\n",
              "      }\n",
              "      quickchartButtonEl.classList.remove('colab-df-spinner');\n",
              "      quickchartButtonEl.classList.add('colab-df-quickchart-complete');\n",
              "    }\n",
              "    (() => {\n",
              "      let quickchartButtonEl =\n",
              "        document.querySelector('#df-f180b4b1-0b03-4c01-a831-e7148ec66710 button');\n",
              "      quickchartButtonEl.style.display =\n",
              "        google.colab.kernel.accessAllowed ? 'block' : 'none';\n",
              "    })();\n",
              "  </script>\n",
              "</div>\n",
              "\n",
              "    </div>\n",
              "  </div>\n"
            ],
            "application/vnd.google.colaboratory.intrinsic+json": {
              "type": "dataframe",
              "variable_name": "df"
            }
          },
          "metadata": {},
          "execution_count": 19
        }
      ],
      "source": [
        "df.head(5)"
      ]
    },
    {
      "cell_type": "markdown",
      "source": [
        "### 1. **Dataset Curation and Preprocessing**:\n",
        "Preparing and cleaning the dataset to ensure it is suitable for analysis and machine learning tasks."
      ],
      "metadata": {
        "id": "2-tQB9aHCoEh"
      },
      "id": "2-tQB9aHCoEh"
    },
    {
      "cell_type": "code",
      "execution_count": 20,
      "id": "de54faab-bf68-4fbd-a3b1-d886edc98cf9",
      "metadata": {
        "id": "de54faab-bf68-4fbd-a3b1-d886edc98cf9",
        "colab": {
          "base_uri": "https://localhost:8080/"
        },
        "outputId": "fe3c7b67-655e-415d-e656-0e91651c26c6"
      },
      "outputs": [
        {
          "output_type": "stream",
          "name": "stdout",
          "text": [
            "                                             Content  Label\n",
            "0  denial of normal the con be asked to comment o...      1\n",
            "1  just by being able to tweet this insufferable ...      1\n",
            "2  that is retarded you too cute to be single tha...      1\n",
            "3  thought of a real badass mongol style declarat...      1\n",
            "4                                afro american basho      1\n"
          ]
        }
      ],
      "source": [
        "#removing the Punctuations\n",
        "import string\n",
        "punctuation = string.punctuation.replace(',', '')\n",
        "df['Content'] = df['Content'].apply(lambda text: text.translate(str.maketrans('', '', punctuation + ',')))\n",
        "\n",
        "print(df.head())\n"
      ]
    },
    {
      "cell_type": "code",
      "execution_count": 21,
      "id": "932d952a-a45e-4f0e-aadf-d112be0dab99",
      "metadata": {
        "id": "932d952a-a45e-4f0e-aadf-d112be0dab99",
        "colab": {
          "base_uri": "https://localhost:8080/"
        },
        "outputId": "9be819cc-f68a-44ae-c223-9be5bdb991f4"
      },
      "outputs": [
        {
          "output_type": "stream",
          "name": "stdout",
          "text": [
            "                                                  Content  Label\n",
            "0       denial of normal the con be asked to comment o...      1\n",
            "1       just by being able to tweet this insufferable ...      1\n",
            "2       that is retarded you too cute to be single tha...      1\n",
            "3       thought of a real badass mongol style declarat...      1\n",
            "4                                     afro american basho      1\n",
            "...                                                   ...    ...\n",
            "699982  i mute this telecasting and played kanye west ...      1\n",
            "699983  but hell yeah he s not a bachelor but looooooo...      1\n",
            "699984  great video musician but s not my musician lol...      1\n",
            "699985  not great pop video yeah he s not a pedophile ...      1\n",
            "699986  great video yeah he s non a paedophile lolllll...      1\n",
            "\n",
            "[699987 rows x 2 columns]\n"
          ]
        }
      ],
      "source": [
        "#removing the duplicates\n",
        "df = df.drop_duplicates(subset=['Content'])\n",
        "df.reset_index(drop=True, inplace=True)\n",
        "print(df)\n"
      ]
    },
    {
      "cell_type": "code",
      "execution_count": 22,
      "id": "3dc0104d-9341-437c-ab60-41c278f27d5e",
      "metadata": {
        "id": "3dc0104d-9341-437c-ab60-41c278f27d5e",
        "colab": {
          "base_uri": "https://localhost:8080/"
        },
        "outputId": "ac97790b-8455-4681-f827-ddcbc4ee3214"
      },
      "outputs": [
        {
          "output_type": "execute_result",
          "data": {
            "text/plain": [
              "(699987, 2)"
            ]
          },
          "metadata": {},
          "execution_count": 22
        }
      ],
      "source": [
        "# after removing the duplicate values shape of the dataset\n",
        "df.shape"
      ]
    },
    {
      "cell_type": "code",
      "execution_count": 24,
      "id": "ca763d20-dc95-4c2d-9758-ae701cff0999",
      "metadata": {
        "id": "ca763d20-dc95-4c2d-9758-ae701cff0999",
        "colab": {
          "base_uri": "https://localhost:8080/",
          "height": 363
        },
        "outputId": "fee4d707-759f-4170-96b4-b259f1b6b12f"
      },
      "outputs": [
        {
          "output_type": "execute_result",
          "data": {
            "text/plain": [
              "                                             Content  Label\n",
              "0  denial of normal the con be asked to comment o...      1\n",
              "1  just by being able to tweet this insufferable ...      1\n",
              "2  that is retarded you too cute to be single tha...      1\n",
              "3  thought of a real badass mongol style declarat...      1\n",
              "4                                afro american basho      1\n",
              "5                                   yeah retard haha      1\n",
              "6                        the ching chong chung stuff      1\n",
              "7  the dead what a slut still warm when she tweet...      1\n",
              "8  let your tweets be harmless it will not affect...      1\n",
              "9  these latinos who have a problem with immigrat...      1"
            ],
            "text/html": [
              "\n",
              "  <div id=\"df-34da3994-b06b-4332-b6ee-6e3d74e1346a\" class=\"colab-df-container\">\n",
              "    <div>\n",
              "<style scoped>\n",
              "    .dataframe tbody tr th:only-of-type {\n",
              "        vertical-align: middle;\n",
              "    }\n",
              "\n",
              "    .dataframe tbody tr th {\n",
              "        vertical-align: top;\n",
              "    }\n",
              "\n",
              "    .dataframe thead th {\n",
              "        text-align: right;\n",
              "    }\n",
              "</style>\n",
              "<table border=\"1\" class=\"dataframe\">\n",
              "  <thead>\n",
              "    <tr style=\"text-align: right;\">\n",
              "      <th></th>\n",
              "      <th>Content</th>\n",
              "      <th>Label</th>\n",
              "    </tr>\n",
              "  </thead>\n",
              "  <tbody>\n",
              "    <tr>\n",
              "      <th>0</th>\n",
              "      <td>denial of normal the con be asked to comment o...</td>\n",
              "      <td>1</td>\n",
              "    </tr>\n",
              "    <tr>\n",
              "      <th>1</th>\n",
              "      <td>just by being able to tweet this insufferable ...</td>\n",
              "      <td>1</td>\n",
              "    </tr>\n",
              "    <tr>\n",
              "      <th>2</th>\n",
              "      <td>that is retarded you too cute to be single tha...</td>\n",
              "      <td>1</td>\n",
              "    </tr>\n",
              "    <tr>\n",
              "      <th>3</th>\n",
              "      <td>thought of a real badass mongol style declarat...</td>\n",
              "      <td>1</td>\n",
              "    </tr>\n",
              "    <tr>\n",
              "      <th>4</th>\n",
              "      <td>afro american basho</td>\n",
              "      <td>1</td>\n",
              "    </tr>\n",
              "    <tr>\n",
              "      <th>5</th>\n",
              "      <td>yeah retard haha</td>\n",
              "      <td>1</td>\n",
              "    </tr>\n",
              "    <tr>\n",
              "      <th>6</th>\n",
              "      <td>the ching chong chung stuff</td>\n",
              "      <td>1</td>\n",
              "    </tr>\n",
              "    <tr>\n",
              "      <th>7</th>\n",
              "      <td>the dead what a slut still warm when she tweet...</td>\n",
              "      <td>1</td>\n",
              "    </tr>\n",
              "    <tr>\n",
              "      <th>8</th>\n",
              "      <td>let your tweets be harmless it will not affect...</td>\n",
              "      <td>1</td>\n",
              "    </tr>\n",
              "    <tr>\n",
              "      <th>9</th>\n",
              "      <td>these latinos who have a problem with immigrat...</td>\n",
              "      <td>1</td>\n",
              "    </tr>\n",
              "  </tbody>\n",
              "</table>\n",
              "</div>\n",
              "    <div class=\"colab-df-buttons\">\n",
              "\n",
              "  <div class=\"colab-df-container\">\n",
              "    <button class=\"colab-df-convert\" onclick=\"convertToInteractive('df-34da3994-b06b-4332-b6ee-6e3d74e1346a')\"\n",
              "            title=\"Convert this dataframe to an interactive table.\"\n",
              "            style=\"display:none;\">\n",
              "\n",
              "  <svg xmlns=\"http://www.w3.org/2000/svg\" height=\"24px\" viewBox=\"0 -960 960 960\">\n",
              "    <path d=\"M120-120v-720h720v720H120Zm60-500h600v-160H180v160Zm220 220h160v-160H400v160Zm0 220h160v-160H400v160ZM180-400h160v-160H180v160Zm440 0h160v-160H620v160ZM180-180h160v-160H180v160Zm440 0h160v-160H620v160Z\"/>\n",
              "  </svg>\n",
              "    </button>\n",
              "\n",
              "  <style>\n",
              "    .colab-df-container {\n",
              "      display:flex;\n",
              "      gap: 12px;\n",
              "    }\n",
              "\n",
              "    .colab-df-convert {\n",
              "      background-color: #E8F0FE;\n",
              "      border: none;\n",
              "      border-radius: 50%;\n",
              "      cursor: pointer;\n",
              "      display: none;\n",
              "      fill: #1967D2;\n",
              "      height: 32px;\n",
              "      padding: 0 0 0 0;\n",
              "      width: 32px;\n",
              "    }\n",
              "\n",
              "    .colab-df-convert:hover {\n",
              "      background-color: #E2EBFA;\n",
              "      box-shadow: 0px 1px 2px rgba(60, 64, 67, 0.3), 0px 1px 3px 1px rgba(60, 64, 67, 0.15);\n",
              "      fill: #174EA6;\n",
              "    }\n",
              "\n",
              "    .colab-df-buttons div {\n",
              "      margin-bottom: 4px;\n",
              "    }\n",
              "\n",
              "    [theme=dark] .colab-df-convert {\n",
              "      background-color: #3B4455;\n",
              "      fill: #D2E3FC;\n",
              "    }\n",
              "\n",
              "    [theme=dark] .colab-df-convert:hover {\n",
              "      background-color: #434B5C;\n",
              "      box-shadow: 0px 1px 3px 1px rgba(0, 0, 0, 0.15);\n",
              "      filter: drop-shadow(0px 1px 2px rgba(0, 0, 0, 0.3));\n",
              "      fill: #FFFFFF;\n",
              "    }\n",
              "  </style>\n",
              "\n",
              "    <script>\n",
              "      const buttonEl =\n",
              "        document.querySelector('#df-34da3994-b06b-4332-b6ee-6e3d74e1346a button.colab-df-convert');\n",
              "      buttonEl.style.display =\n",
              "        google.colab.kernel.accessAllowed ? 'block' : 'none';\n",
              "\n",
              "      async function convertToInteractive(key) {\n",
              "        const element = document.querySelector('#df-34da3994-b06b-4332-b6ee-6e3d74e1346a');\n",
              "        const dataTable =\n",
              "          await google.colab.kernel.invokeFunction('convertToInteractive',\n",
              "                                                    [key], {});\n",
              "        if (!dataTable) return;\n",
              "\n",
              "        const docLinkHtml = 'Like what you see? Visit the ' +\n",
              "          '<a target=\"_blank\" href=https://colab.research.google.com/notebooks/data_table.ipynb>data table notebook</a>'\n",
              "          + ' to learn more about interactive tables.';\n",
              "        element.innerHTML = '';\n",
              "        dataTable['output_type'] = 'display_data';\n",
              "        await google.colab.output.renderOutput(dataTable, element);\n",
              "        const docLink = document.createElement('div');\n",
              "        docLink.innerHTML = docLinkHtml;\n",
              "        element.appendChild(docLink);\n",
              "      }\n",
              "    </script>\n",
              "  </div>\n",
              "\n",
              "\n",
              "<div id=\"df-2f21f3a3-24eb-4571-be1d-3814182da2c1\">\n",
              "  <button class=\"colab-df-quickchart\" onclick=\"quickchart('df-2f21f3a3-24eb-4571-be1d-3814182da2c1')\"\n",
              "            title=\"Suggest charts\"\n",
              "            style=\"display:none;\">\n",
              "\n",
              "<svg xmlns=\"http://www.w3.org/2000/svg\" height=\"24px\"viewBox=\"0 0 24 24\"\n",
              "     width=\"24px\">\n",
              "    <g>\n",
              "        <path d=\"M19 3H5c-1.1 0-2 .9-2 2v14c0 1.1.9 2 2 2h14c1.1 0 2-.9 2-2V5c0-1.1-.9-2-2-2zM9 17H7v-7h2v7zm4 0h-2V7h2v10zm4 0h-2v-4h2v4z\"/>\n",
              "    </g>\n",
              "</svg>\n",
              "  </button>\n",
              "\n",
              "<style>\n",
              "  .colab-df-quickchart {\n",
              "      --bg-color: #E8F0FE;\n",
              "      --fill-color: #1967D2;\n",
              "      --hover-bg-color: #E2EBFA;\n",
              "      --hover-fill-color: #174EA6;\n",
              "      --disabled-fill-color: #AAA;\n",
              "      --disabled-bg-color: #DDD;\n",
              "  }\n",
              "\n",
              "  [theme=dark] .colab-df-quickchart {\n",
              "      --bg-color: #3B4455;\n",
              "      --fill-color: #D2E3FC;\n",
              "      --hover-bg-color: #434B5C;\n",
              "      --hover-fill-color: #FFFFFF;\n",
              "      --disabled-bg-color: #3B4455;\n",
              "      --disabled-fill-color: #666;\n",
              "  }\n",
              "\n",
              "  .colab-df-quickchart {\n",
              "    background-color: var(--bg-color);\n",
              "    border: none;\n",
              "    border-radius: 50%;\n",
              "    cursor: pointer;\n",
              "    display: none;\n",
              "    fill: var(--fill-color);\n",
              "    height: 32px;\n",
              "    padding: 0;\n",
              "    width: 32px;\n",
              "  }\n",
              "\n",
              "  .colab-df-quickchart:hover {\n",
              "    background-color: var(--hover-bg-color);\n",
              "    box-shadow: 0 1px 2px rgba(60, 64, 67, 0.3), 0 1px 3px 1px rgba(60, 64, 67, 0.15);\n",
              "    fill: var(--button-hover-fill-color);\n",
              "  }\n",
              "\n",
              "  .colab-df-quickchart-complete:disabled,\n",
              "  .colab-df-quickchart-complete:disabled:hover {\n",
              "    background-color: var(--disabled-bg-color);\n",
              "    fill: var(--disabled-fill-color);\n",
              "    box-shadow: none;\n",
              "  }\n",
              "\n",
              "  .colab-df-spinner {\n",
              "    border: 2px solid var(--fill-color);\n",
              "    border-color: transparent;\n",
              "    border-bottom-color: var(--fill-color);\n",
              "    animation:\n",
              "      spin 1s steps(1) infinite;\n",
              "  }\n",
              "\n",
              "  @keyframes spin {\n",
              "    0% {\n",
              "      border-color: transparent;\n",
              "      border-bottom-color: var(--fill-color);\n",
              "      border-left-color: var(--fill-color);\n",
              "    }\n",
              "    20% {\n",
              "      border-color: transparent;\n",
              "      border-left-color: var(--fill-color);\n",
              "      border-top-color: var(--fill-color);\n",
              "    }\n",
              "    30% {\n",
              "      border-color: transparent;\n",
              "      border-left-color: var(--fill-color);\n",
              "      border-top-color: var(--fill-color);\n",
              "      border-right-color: var(--fill-color);\n",
              "    }\n",
              "    40% {\n",
              "      border-color: transparent;\n",
              "      border-right-color: var(--fill-color);\n",
              "      border-top-color: var(--fill-color);\n",
              "    }\n",
              "    60% {\n",
              "      border-color: transparent;\n",
              "      border-right-color: var(--fill-color);\n",
              "    }\n",
              "    80% {\n",
              "      border-color: transparent;\n",
              "      border-right-color: var(--fill-color);\n",
              "      border-bottom-color: var(--fill-color);\n",
              "    }\n",
              "    90% {\n",
              "      border-color: transparent;\n",
              "      border-bottom-color: var(--fill-color);\n",
              "    }\n",
              "  }\n",
              "</style>\n",
              "\n",
              "  <script>\n",
              "    async function quickchart(key) {\n",
              "      const quickchartButtonEl =\n",
              "        document.querySelector('#' + key + ' button');\n",
              "      quickchartButtonEl.disabled = true;  // To prevent multiple clicks.\n",
              "      quickchartButtonEl.classList.add('colab-df-spinner');\n",
              "      try {\n",
              "        const charts = await google.colab.kernel.invokeFunction(\n",
              "            'suggestCharts', [key], {});\n",
              "      } catch (error) {\n",
              "        console.error('Error during call to suggestCharts:', error);\n",
              "      }\n",
              "      quickchartButtonEl.classList.remove('colab-df-spinner');\n",
              "      quickchartButtonEl.classList.add('colab-df-quickchart-complete');\n",
              "    }\n",
              "    (() => {\n",
              "      let quickchartButtonEl =\n",
              "        document.querySelector('#df-2f21f3a3-24eb-4571-be1d-3814182da2c1 button');\n",
              "      quickchartButtonEl.style.display =\n",
              "        google.colab.kernel.accessAllowed ? 'block' : 'none';\n",
              "    })();\n",
              "  </script>\n",
              "</div>\n",
              "\n",
              "    </div>\n",
              "  </div>\n"
            ],
            "application/vnd.google.colaboratory.intrinsic+json": {
              "type": "dataframe",
              "variable_name": "df"
            }
          },
          "metadata": {},
          "execution_count": 24
        }
      ],
      "source": [
        "# Only keeps alphabetic characters and spaces\n",
        "def preprocess_text(text):\n",
        "    text = re.sub(r'[^A-Za-z\\s]', '', text)\n",
        "    text = text.strip()  # Remove leading/trailing whitespace\n",
        "    return text\n",
        "\n",
        "# Apply the enhanced preprocessing to the 'content' column and replace the original 'content' column\n",
        "df['Content'] = df['Content'].apply(preprocess_text)\n",
        "\n",
        "# Display the DataFrame after cleaning the 'content' column\n",
        "df.head(10)"
      ]
    },
    {
      "cell_type": "code",
      "execution_count": 25,
      "id": "486f7e8e-44eb-4abd-b987-c483f60832aa",
      "metadata": {
        "id": "486f7e8e-44eb-4abd-b987-c483f60832aa",
        "colab": {
          "base_uri": "https://localhost:8080/"
        },
        "outputId": "daf0739e-da3e-4be6-b181-b89396f3a59d"
      },
      "outputs": [
        {
          "output_type": "stream",
          "name": "stdout",
          "text": [
            "                                                  Content  Label\n",
            "0       denial of normal the con be asked to comment o...      1\n",
            "1       just by being able to tweet this insufferable ...      1\n",
            "2       that is retarded you too cute to be single tha...      1\n",
            "3       thought of a real badass mongol style declarat...      1\n",
            "4                                     afro american basho      1\n",
            "...                                                   ...    ...\n",
            "699982  i mute this telecasting and played kanye west ...      1\n",
            "699983  but hell yeah he s not a bachelor but looooooo...      1\n",
            "699984  great video musician but s not my musician lol...      1\n",
            "699985  not great pop video yeah he s not a pedophile ...      1\n",
            "699986  great video yeah he s non a paedophile lolllll...      1\n",
            "\n",
            "[656368 rows x 2 columns]\n"
          ]
        }
      ],
      "source": [
        "#Keeping only english sentences and removing other language sentences\n",
        "#landetect will only keep the english sentences and check will done for sentences above 3 words.\n",
        "from langdetect import detect, DetectorFactory\n",
        "\n",
        "# Ensure consistent results from langdetect\n",
        "DetectorFactory.seed = 0\n",
        "\n",
        "def is_english(text):\n",
        "    try:\n",
        "        return detect(text) == 'en'\n",
        "    except:\n",
        "        return False\n",
        "\n",
        "# Apply the function to filter the DataFrame\n",
        "df = df[df['Content'].apply(is_english)]\n",
        "\n",
        "# Display the filtered DataFrame\n",
        "print(df)"
      ]
    },
    {
      "cell_type": "code",
      "execution_count": 26,
      "id": "3b2bdb5d-6c54-4697-8721-2527c19ac733",
      "metadata": {
        "id": "3b2bdb5d-6c54-4697-8721-2527c19ac733"
      },
      "outputs": [],
      "source": [
        "#Saving the data as \"only_english2\"\n",
        "df.to_csv('D:\\hate_english\\only_english2.csv', index=False)"
      ]
    },
    {
      "cell_type": "code",
      "execution_count": 27,
      "id": "c4b2f67e-52ca-4d69-ba7f-8748d5a2d510",
      "metadata": {
        "scrolled": true,
        "id": "c4b2f67e-52ca-4d69-ba7f-8748d5a2d510",
        "colab": {
          "base_uri": "https://localhost:8080/",
          "height": 424
        },
        "outputId": "bc3040f1-c039-4a4c-ac9a-f67c630f6030"
      },
      "outputs": [
        {
          "output_type": "execute_result",
          "data": {
            "text/plain": [
              "                                                  Content  Label\n",
              "0       denial of normal the con be asked to comment o...      1\n",
              "1       just by being able to tweet this insufferable ...      1\n",
              "2       that is retarded you too cute to be single tha...      1\n",
              "3       thought of a real badass mongol style declarat...      1\n",
              "4                                     afro american basho      1\n",
              "...                                                   ...    ...\n",
              "656329  i mute this telecasting and played kanye west ...      1\n",
              "656330  but hell yeah he s not a bachelor but looooooo...      1\n",
              "656331  great video musician but s not my musician lol...      1\n",
              "656332  not great pop video yeah he s not a pedophile ...      1\n",
              "656333  great video yeah he s non a paedophile lolllll...      1\n",
              "\n",
              "[656334 rows x 2 columns]"
            ],
            "text/html": [
              "\n",
              "  <div id=\"df-a316137a-9f69-4c9b-8a17-b7bba1eb9902\" class=\"colab-df-container\">\n",
              "    <div>\n",
              "<style scoped>\n",
              "    .dataframe tbody tr th:only-of-type {\n",
              "        vertical-align: middle;\n",
              "    }\n",
              "\n",
              "    .dataframe tbody tr th {\n",
              "        vertical-align: top;\n",
              "    }\n",
              "\n",
              "    .dataframe thead th {\n",
              "        text-align: right;\n",
              "    }\n",
              "</style>\n",
              "<table border=\"1\" class=\"dataframe\">\n",
              "  <thead>\n",
              "    <tr style=\"text-align: right;\">\n",
              "      <th></th>\n",
              "      <th>Content</th>\n",
              "      <th>Label</th>\n",
              "    </tr>\n",
              "  </thead>\n",
              "  <tbody>\n",
              "    <tr>\n",
              "      <th>0</th>\n",
              "      <td>denial of normal the con be asked to comment o...</td>\n",
              "      <td>1</td>\n",
              "    </tr>\n",
              "    <tr>\n",
              "      <th>1</th>\n",
              "      <td>just by being able to tweet this insufferable ...</td>\n",
              "      <td>1</td>\n",
              "    </tr>\n",
              "    <tr>\n",
              "      <th>2</th>\n",
              "      <td>that is retarded you too cute to be single tha...</td>\n",
              "      <td>1</td>\n",
              "    </tr>\n",
              "    <tr>\n",
              "      <th>3</th>\n",
              "      <td>thought of a real badass mongol style declarat...</td>\n",
              "      <td>1</td>\n",
              "    </tr>\n",
              "    <tr>\n",
              "      <th>4</th>\n",
              "      <td>afro american basho</td>\n",
              "      <td>1</td>\n",
              "    </tr>\n",
              "    <tr>\n",
              "      <th>...</th>\n",
              "      <td>...</td>\n",
              "      <td>...</td>\n",
              "    </tr>\n",
              "    <tr>\n",
              "      <th>656329</th>\n",
              "      <td>i mute this telecasting and played kanye west ...</td>\n",
              "      <td>1</td>\n",
              "    </tr>\n",
              "    <tr>\n",
              "      <th>656330</th>\n",
              "      <td>but hell yeah he s not a bachelor but looooooo...</td>\n",
              "      <td>1</td>\n",
              "    </tr>\n",
              "    <tr>\n",
              "      <th>656331</th>\n",
              "      <td>great video musician but s not my musician lol...</td>\n",
              "      <td>1</td>\n",
              "    </tr>\n",
              "    <tr>\n",
              "      <th>656332</th>\n",
              "      <td>not great pop video yeah he s not a pedophile ...</td>\n",
              "      <td>1</td>\n",
              "    </tr>\n",
              "    <tr>\n",
              "      <th>656333</th>\n",
              "      <td>great video yeah he s non a paedophile lolllll...</td>\n",
              "      <td>1</td>\n",
              "    </tr>\n",
              "  </tbody>\n",
              "</table>\n",
              "<p>656334 rows × 2 columns</p>\n",
              "</div>\n",
              "    <div class=\"colab-df-buttons\">\n",
              "\n",
              "  <div class=\"colab-df-container\">\n",
              "    <button class=\"colab-df-convert\" onclick=\"convertToInteractive('df-a316137a-9f69-4c9b-8a17-b7bba1eb9902')\"\n",
              "            title=\"Convert this dataframe to an interactive table.\"\n",
              "            style=\"display:none;\">\n",
              "\n",
              "  <svg xmlns=\"http://www.w3.org/2000/svg\" height=\"24px\" viewBox=\"0 -960 960 960\">\n",
              "    <path d=\"M120-120v-720h720v720H120Zm60-500h600v-160H180v160Zm220 220h160v-160H400v160Zm0 220h160v-160H400v160ZM180-400h160v-160H180v160Zm440 0h160v-160H620v160ZM180-180h160v-160H180v160Zm440 0h160v-160H620v160Z\"/>\n",
              "  </svg>\n",
              "    </button>\n",
              "\n",
              "  <style>\n",
              "    .colab-df-container {\n",
              "      display:flex;\n",
              "      gap: 12px;\n",
              "    }\n",
              "\n",
              "    .colab-df-convert {\n",
              "      background-color: #E8F0FE;\n",
              "      border: none;\n",
              "      border-radius: 50%;\n",
              "      cursor: pointer;\n",
              "      display: none;\n",
              "      fill: #1967D2;\n",
              "      height: 32px;\n",
              "      padding: 0 0 0 0;\n",
              "      width: 32px;\n",
              "    }\n",
              "\n",
              "    .colab-df-convert:hover {\n",
              "      background-color: #E2EBFA;\n",
              "      box-shadow: 0px 1px 2px rgba(60, 64, 67, 0.3), 0px 1px 3px 1px rgba(60, 64, 67, 0.15);\n",
              "      fill: #174EA6;\n",
              "    }\n",
              "\n",
              "    .colab-df-buttons div {\n",
              "      margin-bottom: 4px;\n",
              "    }\n",
              "\n",
              "    [theme=dark] .colab-df-convert {\n",
              "      background-color: #3B4455;\n",
              "      fill: #D2E3FC;\n",
              "    }\n",
              "\n",
              "    [theme=dark] .colab-df-convert:hover {\n",
              "      background-color: #434B5C;\n",
              "      box-shadow: 0px 1px 3px 1px rgba(0, 0, 0, 0.15);\n",
              "      filter: drop-shadow(0px 1px 2px rgba(0, 0, 0, 0.3));\n",
              "      fill: #FFFFFF;\n",
              "    }\n",
              "  </style>\n",
              "\n",
              "    <script>\n",
              "      const buttonEl =\n",
              "        document.querySelector('#df-a316137a-9f69-4c9b-8a17-b7bba1eb9902 button.colab-df-convert');\n",
              "      buttonEl.style.display =\n",
              "        google.colab.kernel.accessAllowed ? 'block' : 'none';\n",
              "\n",
              "      async function convertToInteractive(key) {\n",
              "        const element = document.querySelector('#df-a316137a-9f69-4c9b-8a17-b7bba1eb9902');\n",
              "        const dataTable =\n",
              "          await google.colab.kernel.invokeFunction('convertToInteractive',\n",
              "                                                    [key], {});\n",
              "        if (!dataTable) return;\n",
              "\n",
              "        const docLinkHtml = 'Like what you see? Visit the ' +\n",
              "          '<a target=\"_blank\" href=https://colab.research.google.com/notebooks/data_table.ipynb>data table notebook</a>'\n",
              "          + ' to learn more about interactive tables.';\n",
              "        element.innerHTML = '';\n",
              "        dataTable['output_type'] = 'display_data';\n",
              "        await google.colab.output.renderOutput(dataTable, element);\n",
              "        const docLink = document.createElement('div');\n",
              "        docLink.innerHTML = docLinkHtml;\n",
              "        element.appendChild(docLink);\n",
              "      }\n",
              "    </script>\n",
              "  </div>\n",
              "\n",
              "\n",
              "<div id=\"df-7a66e00f-75b4-468c-bdc1-c8ed42b2a75a\">\n",
              "  <button class=\"colab-df-quickchart\" onclick=\"quickchart('df-7a66e00f-75b4-468c-bdc1-c8ed42b2a75a')\"\n",
              "            title=\"Suggest charts\"\n",
              "            style=\"display:none;\">\n",
              "\n",
              "<svg xmlns=\"http://www.w3.org/2000/svg\" height=\"24px\"viewBox=\"0 0 24 24\"\n",
              "     width=\"24px\">\n",
              "    <g>\n",
              "        <path d=\"M19 3H5c-1.1 0-2 .9-2 2v14c0 1.1.9 2 2 2h14c1.1 0 2-.9 2-2V5c0-1.1-.9-2-2-2zM9 17H7v-7h2v7zm4 0h-2V7h2v10zm4 0h-2v-4h2v4z\"/>\n",
              "    </g>\n",
              "</svg>\n",
              "  </button>\n",
              "\n",
              "<style>\n",
              "  .colab-df-quickchart {\n",
              "      --bg-color: #E8F0FE;\n",
              "      --fill-color: #1967D2;\n",
              "      --hover-bg-color: #E2EBFA;\n",
              "      --hover-fill-color: #174EA6;\n",
              "      --disabled-fill-color: #AAA;\n",
              "      --disabled-bg-color: #DDD;\n",
              "  }\n",
              "\n",
              "  [theme=dark] .colab-df-quickchart {\n",
              "      --bg-color: #3B4455;\n",
              "      --fill-color: #D2E3FC;\n",
              "      --hover-bg-color: #434B5C;\n",
              "      --hover-fill-color: #FFFFFF;\n",
              "      --disabled-bg-color: #3B4455;\n",
              "      --disabled-fill-color: #666;\n",
              "  }\n",
              "\n",
              "  .colab-df-quickchart {\n",
              "    background-color: var(--bg-color);\n",
              "    border: none;\n",
              "    border-radius: 50%;\n",
              "    cursor: pointer;\n",
              "    display: none;\n",
              "    fill: var(--fill-color);\n",
              "    height: 32px;\n",
              "    padding: 0;\n",
              "    width: 32px;\n",
              "  }\n",
              "\n",
              "  .colab-df-quickchart:hover {\n",
              "    background-color: var(--hover-bg-color);\n",
              "    box-shadow: 0 1px 2px rgba(60, 64, 67, 0.3), 0 1px 3px 1px rgba(60, 64, 67, 0.15);\n",
              "    fill: var(--button-hover-fill-color);\n",
              "  }\n",
              "\n",
              "  .colab-df-quickchart-complete:disabled,\n",
              "  .colab-df-quickchart-complete:disabled:hover {\n",
              "    background-color: var(--disabled-bg-color);\n",
              "    fill: var(--disabled-fill-color);\n",
              "    box-shadow: none;\n",
              "  }\n",
              "\n",
              "  .colab-df-spinner {\n",
              "    border: 2px solid var(--fill-color);\n",
              "    border-color: transparent;\n",
              "    border-bottom-color: var(--fill-color);\n",
              "    animation:\n",
              "      spin 1s steps(1) infinite;\n",
              "  }\n",
              "\n",
              "  @keyframes spin {\n",
              "    0% {\n",
              "      border-color: transparent;\n",
              "      border-bottom-color: var(--fill-color);\n",
              "      border-left-color: var(--fill-color);\n",
              "    }\n",
              "    20% {\n",
              "      border-color: transparent;\n",
              "      border-left-color: var(--fill-color);\n",
              "      border-top-color: var(--fill-color);\n",
              "    }\n",
              "    30% {\n",
              "      border-color: transparent;\n",
              "      border-left-color: var(--fill-color);\n",
              "      border-top-color: var(--fill-color);\n",
              "      border-right-color: var(--fill-color);\n",
              "    }\n",
              "    40% {\n",
              "      border-color: transparent;\n",
              "      border-right-color: var(--fill-color);\n",
              "      border-top-color: var(--fill-color);\n",
              "    }\n",
              "    60% {\n",
              "      border-color: transparent;\n",
              "      border-right-color: var(--fill-color);\n",
              "    }\n",
              "    80% {\n",
              "      border-color: transparent;\n",
              "      border-right-color: var(--fill-color);\n",
              "      border-bottom-color: var(--fill-color);\n",
              "    }\n",
              "    90% {\n",
              "      border-color: transparent;\n",
              "      border-bottom-color: var(--fill-color);\n",
              "    }\n",
              "  }\n",
              "</style>\n",
              "\n",
              "  <script>\n",
              "    async function quickchart(key) {\n",
              "      const quickchartButtonEl =\n",
              "        document.querySelector('#' + key + ' button');\n",
              "      quickchartButtonEl.disabled = true;  // To prevent multiple clicks.\n",
              "      quickchartButtonEl.classList.add('colab-df-spinner');\n",
              "      try {\n",
              "        const charts = await google.colab.kernel.invokeFunction(\n",
              "            'suggestCharts', [key], {});\n",
              "      } catch (error) {\n",
              "        console.error('Error during call to suggestCharts:', error);\n",
              "      }\n",
              "      quickchartButtonEl.classList.remove('colab-df-spinner');\n",
              "      quickchartButtonEl.classList.add('colab-df-quickchart-complete');\n",
              "    }\n",
              "    (() => {\n",
              "      let quickchartButtonEl =\n",
              "        document.querySelector('#df-7a66e00f-75b4-468c-bdc1-c8ed42b2a75a button');\n",
              "      quickchartButtonEl.style.display =\n",
              "        google.colab.kernel.accessAllowed ? 'block' : 'none';\n",
              "    })();\n",
              "  </script>\n",
              "</div>\n",
              "\n",
              "  <div id=\"id_4d5762b8-8918-4b9f-940e-7bdff690c400\">\n",
              "    <style>\n",
              "      .colab-df-generate {\n",
              "        background-color: #E8F0FE;\n",
              "        border: none;\n",
              "        border-radius: 50%;\n",
              "        cursor: pointer;\n",
              "        display: none;\n",
              "        fill: #1967D2;\n",
              "        height: 32px;\n",
              "        padding: 0 0 0 0;\n",
              "        width: 32px;\n",
              "      }\n",
              "\n",
              "      .colab-df-generate:hover {\n",
              "        background-color: #E2EBFA;\n",
              "        box-shadow: 0px 1px 2px rgba(60, 64, 67, 0.3), 0px 1px 3px 1px rgba(60, 64, 67, 0.15);\n",
              "        fill: #174EA6;\n",
              "      }\n",
              "\n",
              "      [theme=dark] .colab-df-generate {\n",
              "        background-color: #3B4455;\n",
              "        fill: #D2E3FC;\n",
              "      }\n",
              "\n",
              "      [theme=dark] .colab-df-generate:hover {\n",
              "        background-color: #434B5C;\n",
              "        box-shadow: 0px 1px 3px 1px rgba(0, 0, 0, 0.15);\n",
              "        filter: drop-shadow(0px 1px 2px rgba(0, 0, 0, 0.3));\n",
              "        fill: #FFFFFF;\n",
              "      }\n",
              "    </style>\n",
              "    <button class=\"colab-df-generate\" onclick=\"generateWithVariable('df2')\"\n",
              "            title=\"Generate code using this dataframe.\"\n",
              "            style=\"display:none;\">\n",
              "\n",
              "  <svg xmlns=\"http://www.w3.org/2000/svg\" height=\"24px\"viewBox=\"0 0 24 24\"\n",
              "       width=\"24px\">\n",
              "    <path d=\"M7,19H8.4L18.45,9,17,7.55,7,17.6ZM5,21V16.75L18.45,3.32a2,2,0,0,1,2.83,0l1.4,1.43a1.91,1.91,0,0,1,.58,1.4,1.91,1.91,0,0,1-.58,1.4L9.25,21ZM18.45,9,17,7.55Zm-12,3A5.31,5.31,0,0,0,4.9,8.1,5.31,5.31,0,0,0,1,6.5,5.31,5.31,0,0,0,4.9,4.9,5.31,5.31,0,0,0,6.5,1,5.31,5.31,0,0,0,8.1,4.9,5.31,5.31,0,0,0,12,6.5,5.46,5.46,0,0,0,6.5,12Z\"/>\n",
              "  </svg>\n",
              "    </button>\n",
              "    <script>\n",
              "      (() => {\n",
              "      const buttonEl =\n",
              "        document.querySelector('#id_4d5762b8-8918-4b9f-940e-7bdff690c400 button.colab-df-generate');\n",
              "      buttonEl.style.display =\n",
              "        google.colab.kernel.accessAllowed ? 'block' : 'none';\n",
              "\n",
              "      buttonEl.onclick = () => {\n",
              "        google.colab.notebook.generateWithVariable('df2');\n",
              "      }\n",
              "      })();\n",
              "    </script>\n",
              "  </div>\n",
              "\n",
              "    </div>\n",
              "  </div>\n"
            ],
            "application/vnd.google.colaboratory.intrinsic+json": {
              "type": "dataframe",
              "variable_name": "df2"
            }
          },
          "metadata": {},
          "execution_count": 27
        }
      ],
      "source": [
        "#Opening the new dataset in df2\n",
        "df2 = pd.read_csv(\"only_english2.csv\")\n",
        "df2"
      ]
    },
    {
      "cell_type": "code",
      "execution_count": 28,
      "id": "40e2254d-d326-4d51-ab6d-6122fb71ae0d",
      "metadata": {
        "id": "40e2254d-d326-4d51-ab6d-6122fb71ae0d",
        "colab": {
          "base_uri": "https://localhost:8080/"
        },
        "outputId": "8bdc0519-0385-4e90-9904-5840d4340c12"
      },
      "outputs": [
        {
          "output_type": "stream",
          "name": "stdout",
          "text": [
            "Content    0\n",
            "Label      0\n",
            "dtype: int64\n"
          ]
        }
      ],
      "source": [
        "null_counts = df2.isnull().sum() # Checking for Null values\n",
        "print(null_counts)"
      ]
    },
    {
      "cell_type": "markdown",
      "source": [
        "### Data Visualization"
      ],
      "metadata": {
        "id": "5QWq__LgysQQ"
      },
      "id": "5QWq__LgysQQ"
    },
    {
      "cell_type": "markdown",
      "source": [
        "### Label Distribution"
      ],
      "metadata": {
        "id": "ZUAKb31lyl8O"
      },
      "id": "ZUAKb31lyl8O"
    },
    {
      "cell_type": "code",
      "source": [
        "# 1. Label Distribution\n",
        "label_counts = df2['Label'].value_counts()\n",
        "plt.figure(figsize=(8, 5))\n",
        "bar_plot = sns.barplot(x=label_counts.index, y=label_counts.values, palette=\"viridis\", hue=label_counts.index, dodge=False)\n",
        "plt.legend([], [], frameon=False)  # Disable legend as it's redundant\n",
        "plt.title(\"Label Distribution\")\n",
        "plt.xlabel(\"Label (0 = Non-Hate, 1 = Hate)\")\n",
        "plt.ylabel(\"Count\")\n",
        "\n",
        "# Add numbers above the bars\n",
        "for index, value in enumerate(label_counts.values):\n",
        "    plt.text(index, value + max(label_counts.values) * 0.01, str(value), ha='center', fontsize=12)\n",
        "\n",
        "plt.show()\n"
      ],
      "metadata": {
        "colab": {
          "base_uri": "https://localhost:8080/",
          "height": 487
        },
        "id": "ibh_7H8CxY10",
        "outputId": "952d53bc-147f-478d-d237-1ad6a33e2b0b"
      },
      "id": "ibh_7H8CxY10",
      "execution_count": 42,
      "outputs": [
        {
          "output_type": "display_data",
          "data": {
            "text/plain": [
              "<Figure size 800x500 with 1 Axes>"
            ],
            "image/png": "[encoded data removed]"
          },
          "metadata": {}
        }
      ]
    },
    {
      "cell_type": "markdown",
      "source": [
        "### Text Length Distribution\n"
      ],
      "metadata": {
        "id": "M8rtcQAF0Hcz"
      },
      "id": "M8rtcQAF0Hcz"
    },
    {
      "cell_type": "code",
      "source": [
        "df2['Text Length'] = df2['Content'].apply(lambda x: len(x.split()))\n",
        "plt.figure(figsize=(10, 6))\n",
        "sns.histplot(data=df2, x='Text Length', hue='Label', kde=True, bins=30, palette={0: \"skyblue\", 1: \"salmon\"})\n",
        "plt.title(\"Text Length Distribution by Label\")\n",
        "plt.xlabel(\"Number of Words\")\n",
        "plt.ylabel(\"Frequency\")\n",
        "plt.legend([\"Non-Hate Speech\", \"Hate Speech\"], title=\"Label\")\n",
        "plt.show()"
      ],
      "metadata": {
        "colab": {
          "base_uri": "https://localhost:8080/",
          "height": 564
        },
        "id": "whqN9lsYzBOi",
        "outputId": "44b18e31-93ca-4c04-8c86-32cc7bc5f481"
      },
      "id": "whqN9lsYzBOi",
      "execution_count": 43,
      "outputs": [
        {
          "output_type": "display_data",
          "data": {
            "text/plain": [
              "<Figure size 1000x600 with 1 Axes>"
            ],
            "image/png": "[encoded data removed]"
          },
          "metadata": {}
        }
      ]
    },
    {
      "cell_type": "markdown",
      "source": [
        "### CDF Plot for Text Lengths"
      ],
      "metadata": {
        "id": "n2NAkAo35RoS"
      },
      "id": "n2NAkAo35RoS"
    },
    {
      "cell_type": "code",
      "source": [
        "plt.figure(figsize=(10, 6))\n",
        "\n",
        "# Calculate CDF for Non-Hate Speech\n",
        "non_hate_lengths = sorted(df2[df2['Label'] == 0]['Text Length'])\n",
        "non_hate_cdf = [i / len(non_hate_lengths) for i in range(len(non_hate_lengths))]\n",
        "plt.plot(non_hate_lengths, non_hate_cdf, label=\"Non-Hate Speech\", color=\"skyblue\")\n",
        "\n",
        "# Calculate CDF for Hate Speech\n",
        "hate_lengths = sorted(df2[df2['Label'] == 1]['Text Length'])\n",
        "hate_cdf = [i / len(hate_lengths) for i in range(len(hate_lengths))]\n",
        "plt.plot(hate_lengths, hate_cdf, label=\"Hate Speech\", color=\"salmon\")\n",
        "\n",
        "# Plot details\n",
        "plt.title(\"Cumulative Distribution of Text Lengths by Label\")\n",
        "plt.xlabel(\"Text Length (Number of Words)\")\n",
        "plt.ylabel(\"Cumulative Percentage\")\n",
        "plt.legend(title=\"Label\")\n",
        "plt.grid()\n",
        "plt.show()\n"
      ],
      "metadata": {
        "colab": {
          "base_uri": "https://localhost:8080/",
          "height": 581
        },
        "id": "9kpb-eyy5E4G",
        "outputId": "1cf5e4c7-75ea-415c-f618-98ae23f0a127"
      },
      "id": "9kpb-eyy5E4G",
      "execution_count": 49,
      "outputs": [
        {
          "output_type": "stream",
          "name": "stdout",
          "text": [
            "### CDF Plot for Text Lengths\n"
          ]
        },
        {
          "output_type": "display_data",
          "data": {
            "text/plain": [
              "<Figure size 1000x600 with 1 Axes>"
            ],
            "image/png": "[encoded data removed]"
          },
          "metadata": {}
        }
      ]
    },
    {
      "cell_type": "markdown",
      "source": [
        "# **Data Exploration and Summary Statistics**  \n",
        "Analyzing the dataset to uncover patterns, distributions, and insights that guide the model development process.\n",
        "\n",
        "\n",
        "*   Hypothesis Testing\n",
        "*   Chi-Square Test\n",
        "*   Distribution Anakysis\n",
        "\n",
        "\n",
        "\n"
      ],
      "metadata": {
        "id": "_QpOMExmDhEY"
      },
      "id": "_QpOMExmDhEY"
    },
    {
      "cell_type": "markdown",
      "id": "c09b2516-846f-4dde-8e75-bec766acffe4",
      "metadata": {
        "id": "c09b2516-846f-4dde-8e75-bec766acffe4"
      },
      "source": [
        "**Hypothesis Testing**"
      ]
    },
    {
      "cell_type": "markdown",
      "id": "e71cd7a3-611c-462c-ba84-a70b6f933418",
      "metadata": {
        "id": "e71cd7a3-611c-462c-ba84-a70b6f933418"
      },
      "source": [
        "Null Hypothesis (H₀): There is no significant difference in the mean sentiment scores between hate speech and non-hate speech sentences.\n",
        "\n",
        "Alternative Hypothesis (H₁): There is a significant difference in the mean sentiment scores between hate speech and non-hate speech sentences."
      ]
    },
    {
      "cell_type": "code",
      "execution_count": 50,
      "id": "efd3d08e-5b4a-4519-aa12-8d67943225ac",
      "metadata": {
        "id": "efd3d08e-5b4a-4519-aa12-8d67943225ac",
        "colab": {
          "base_uri": "https://localhost:8080/"
        },
        "outputId": "3f64ff3d-a3da-4725-fb85-b1456034b601"
      },
      "outputs": [
        {
          "output_type": "stream",
          "name": "stdout",
          "text": [
            "T-statistic: -16.096086757077888\n",
            "P-value: 3.3494349275982906e-57\n",
            "Reject the null hypothesis: Hate speech has a significantly different sentiment score.\n"
          ]
        }
      ],
      "source": [
        "# We can do random samplying to take a sample data\n",
        "analyzer = SentimentIntensityAnalyzer()\n",
        "sample_size = int(len(df2) * 0.01)  # Adjust the percentage as needed\n",
        "sample_df = df2.sample(n=sample_size, random_state=1)  # Set random_state for reproducibility\n",
        "\n",
        "# Function to calculate sentiment scores\n",
        "def get_sentiment(text):\n",
        "    return analyzer.polarity_scores(text)['compound']\n",
        "\n",
        "# Apply sentiment analysis to the 'Content' column of the sampled DataFrame\n",
        "sample_df['sentiment'] = sample_df['Content'].apply(get_sentiment)\n",
        "\n",
        "# Separate the data into hate speech and non-hate speech\n",
        "hate_speech = sample_df[sample_df['Label'] == 1]['sentiment']\n",
        "non_hate_speech = sample_df[sample_df['Label'] == 0]['sentiment']\n",
        "\n",
        "# Perform a t-test to compare the means of the two groups\n",
        "t_stat, p_value = stats.ttest_ind(hate_speech, non_hate_speech)\n",
        "\n",
        "# Print results\n",
        "print(f\"T-statistic: {t_stat}\")\n",
        "print(f\"P-value: {p_value}\")\n",
        "\n",
        "# Conclusion based on p-value\n",
        "alpha = 0.05\n",
        "if p_value < alpha:\n",
        "    print(\"Reject the null hypothesis: Hate speech has a significantly different sentiment score.\")\n",
        "else:\n",
        "    print(\"Fail to reject the null hypothesis: No significant difference in sentiment scores.\")"
      ]
    },
    {
      "cell_type": "code",
      "execution_count": 52,
      "id": "76e88567-902d-49df-a106-f754c4daa4d9",
      "metadata": {
        "scrolled": true,
        "id": "76e88567-902d-49df-a106-f754c4daa4d9",
        "colab": {
          "base_uri": "https://localhost:8080/",
          "height": 468
        },
        "outputId": "ff375f17-70a9-46fc-a807-0e6b3e9e2255"
      },
      "outputs": [
        {
          "output_type": "display_data",
          "data": {
            "text/plain": [
              "<Figure size 800x500 with 1 Axes>"
            ],
            "image/png": "[encoded data removed]"
          },
          "metadata": {}
        }
      ],
      "source": [
        "mean_hate = hate_speech.mean()\n",
        "mean_non_hate = non_hate_speech.mean()\n",
        "std_hate = hate_speech.std()\n",
        "std_non_hate = non_hate_speech.std()\n",
        "\n",
        "# Prepare data for plotting\n",
        "labels = ['Hate Speech', 'Non-Hate Speech']\n",
        "means = [mean_hate, mean_non_hate]\n",
        "std_devs = [std_hate, std_non_hate]\n",
        "\n",
        "# Create bar plot with error bars\n",
        "plt.figure(figsize=(8, 5))\n",
        "bars = plt.bar(labels, means, yerr=std_devs, capsize=5, color=['salmon', 'lightblue'])\n",
        "plt.title('Mean Sentiment Score by Speech Type with Error Bars')\n",
        "plt.ylabel('Mean Sentiment Score')\n",
        "plt.axhline(0, color='gray', linestyle='--')  # Line at 0 for reference\n",
        "\n",
        "# Add the p-value as text on the plot\n",
        "plt.text(0.5, max(means) + 0.1, f'P-value: {p_value:.3f}', ha='center', fontsize=12)\n",
        "\n",
        "# Show the plot\n",
        "plt.show()"
      ]
    },
    {
      "cell_type": "markdown",
      "id": "0aecd863",
      "metadata": {
        "id": "0aecd863"
      },
      "source": [
        "**Conclusion from the above Graph**\n",
        "The plot illustrates a significant distinction between sentiment scores, with non-hate speech displaying a positive mean sentiment, while hate speech is associated with a negative mean sentiment."
      ]
    },
    {
      "cell_type": "markdown",
      "id": "cee55094",
      "metadata": {
        "id": "cee55094"
      },
      "source": [
        "**Chi-Square test :**"
      ]
    },
    {
      "cell_type": "code",
      "execution_count": 53,
      "id": "8f42617f-d40f-4a73-a3d6-242ef099e886",
      "metadata": {
        "id": "8f42617f-d40f-4a73-a3d6-242ef099e886",
        "colab": {
          "base_uri": "https://localhost:8080/",
          "height": 445
        },
        "outputId": "670cece0-a0ce-42f7-99ae-4c7a9a120a0e"
      },
      "outputs": [
        {
          "output_type": "display_data",
          "data": {
            "text/plain": [
              "<Figure size 600x400 with 2 Axes>"
            ],
            "image/png": "[encoded data removed]"
          },
          "metadata": {}
        },
        {
          "output_type": "stream",
          "name": "stdout",
          "text": [
            "Chi-Square Statistic: 188.79097478747784\n",
            "P-Value: 1.010556752441172e-41\n"
          ]
        }
      ],
      "source": [
        "# Categorize sentiment into positive, negative, and neutral\n",
        "sample_df['sentiment_category'] = pd.cut(sample_df['sentiment'], bins=[-1, -0.05, 0.05, 1], labels=['Negative', 'Neutral', 'Positive'])\n",
        "\n",
        "# Create a contingency table\n",
        "contingency_table = pd.crosstab(sample_df['Label'], sample_df['sentiment_category'])\n",
        "\n",
        "# Perform Chi-Square test\n",
        "chi2_stat, p_val, dof, expected = stats.chi2_contingency(contingency_table)\n",
        "\n",
        "# Plotting the contingency table\n",
        "plt.figure(figsize=(6, 4))\n",
        "sns.heatmap(contingency_table, annot=True, cmap='Blues', fmt='d')\n",
        "plt.title('Contingency Table: Label vs Sentiment Category')\n",
        "plt.ylabel('Label (0 = Non-Hate, 1 = Hate)')\n",
        "plt.xlabel('Sentiment Category')\n",
        "plt.show()\n",
        "\n",
        "# Print Chi-Square test results\n",
        "print(f\"Chi-Square Statistic: {chi2_stat}\")\n",
        "print(f\"P-Value: {p_val}\")"
      ]
    },
    {
      "cell_type": "markdown",
      "id": "94e62b63",
      "metadata": {
        "id": "94e62b63"
      },
      "source": [
        "**Conclusion from the above Graph**:Hate speech appears more often in negative sentiment, while neutral sentiment shows an almost equal distribution between hate and non-hate speech. Non-hate speech dominates in positive sentiment."
      ]
    },
    {
      "cell_type": "markdown",
      "id": "b66db67d",
      "metadata": {
        "id": "b66db67d"
      },
      "source": [
        "**Distribution Analysis**"
      ]
    },
    {
      "cell_type": "code",
      "execution_count": 54,
      "id": "2285978e-4764-4e73-9123-6f2ab5d521d1",
      "metadata": {
        "id": "2285978e-4764-4e73-9123-6f2ab5d521d1",
        "colab": {
          "base_uri": "https://localhost:8080/",
          "height": 564
        },
        "outputId": "65c27015-63b6-4290-cfa1-3421015d0a13"
      },
      "outputs": [
        {
          "output_type": "display_data",
          "data": {
            "text/plain": [
              "<Figure size 1000x600 with 1 Axes>"
            ],
            "image/png": "[encoded data removed]"
          },
          "metadata": {}
        }
      ],
      "source": [
        "#Distribution Analysis\n",
        "# Plot Histogram and KDE for Sentiment Scores (hate speech vs non-hate speech)\n",
        "plt.figure(figsize=(10, 6))\n",
        "\n",
        "# Plotting the distribution of sentiment scores for both categories\n",
        "sns.histplot(hate_speech, kde=True, color='salmon', label='Hate Speech', bins=20)\n",
        "sns.histplot(non_hate_speech, kde=True, color='lightblue', label='Non-Hate Speech', bins=20)\n",
        "\n",
        "# Adding titles and labels\n",
        "plt.title('Distribution of Sentiment Scores: Hate Speech vs Non-Hate Speech')\n",
        "plt.xlabel('Sentiment Score')\n",
        "plt.ylabel('Frequency')\n",
        "plt.legend()\n",
        "plt.axvline(0, color='gray', linestyle='--')  # Reference line at 0 sentiment score\n",
        "\n",
        "plt.show()"
      ]
    },
    {
      "cell_type": "markdown",
      "id": "c56b2a06",
      "metadata": {
        "id": "c56b2a06"
      },
      "source": [
        "**From the above plot we can analyse :**\n",
        "1) Hate speech is more concentrated in negative sentiment scores, as shown by the higher frequency on the left side of the sentiment scale.<br>\n",
        "2) Non-hate speech tends to have more positive sentiment scores, with a noticeable peak around the neutral and positive range."
      ]
    },
    {
      "cell_type": "markdown",
      "source": [
        "#**ML Algorithm Design/Development**:  \n",
        "\n",
        "\n",
        "*   **DistilBERT**: Utilizing a pre-trained transformer model for effective contextual understanding of textual data.\n",
        "*   **LSTM**: Employing a Long Short-Term Memory model to capture sequential dependencies in text.\n",
        "*   **Naive Bayes**: Leveraging a probabilistic algorithm for a baseline comparison in text classification.\n"
      ],
      "metadata": {
        "id": "gBJjsVH_Eb5C"
      },
      "id": "gBJjsVH_Eb5C"
    },
    {
      "cell_type": "markdown",
      "source": [
        "### DistilBERT Model"
      ],
      "metadata": {
        "id": "pD2GLibMFHq4"
      },
      "id": "pD2GLibMFHq4"
    },
    {
      "cell_type": "code",
      "execution_count": null,
      "id": "ac8ce3f8-b1d1-48eb-9ba8-1d9828c63a4b",
      "metadata": {
        "colab": {
          "base_uri": "https://localhost:8080/",
          "height": 460,
          "referenced_widgets": [
            "7e680c34b0bf4ba396ea259aecd3e8e5",
            "37a2fb6db3c946e2b54391745432d25e",
            "e9bcdddade8f42e093171cbfc7439781",
            "6baca60837c64706b484727f7de8b900",
            "0f57d11e202d4be6912f75de4d4571d4",
            "d876943c5b6c497082774c04ad512ce5",
            "89ef8e8ba5d24d0cb653a4537b377cb9",
            "9567c5b3884a49a7aef204d4dc285ee9",
            "e483284238094acc9614a8d46557f15f",
            "2443ca8ff64049ca9db74e480c0b9768",
            "7d5dc8cc7d19453595b074ab750b3f56",
            "61422587474e47f7bf62dd6c4be70da5",
            "ab7f69ed132f4669a3c1049ed6edf4b7",
            "e00924d040734b31ba38d9367301b804",
            "f11e733962874ea1ab4a19b337b05a57",
            "6eef03c870b54801ae272aa8c19d0a3c",
            "d0d6b40a5ec240f68670f23599f471fd",
            "7e654e558a264a00b89621d1a154b50d",
            "28853f7a663f426da371c64a3c6090a1",
            "3ba79abad65c4303b7878de2e87f9c9a",
            "370e5ddb869b42bea1254d76d82fa5a9",
            "62fc9ca678124427986907ded831f403",
            "51232cd3fdab4b7d9f7a4be6fb303d06",
            "8aec378b2b4140eeb95a2c9ca3dbbca4",
            "d002963edf7141f0829bb894424f050f",
            "47583b211bbf4f808b48a8cbbb965df2",
            "6026284396dd4e819defd0841993a035",
            "b4373de11aa74185915537fa8f2c510f",
            "fed822d8deb647cb8e74cd3fc4e3a37a",
            "0f01c5158e3045cc8b05a65991760c3b",
            "a509679965eb451281d428895efd222b",
            "b5a2a1a08e6d4186807d35b9f4df3afd",
            "ea69ffdb183c4c61bea7929f5031f9af",
            "e876adf673054b458c45859d9b09a436",
            "f90a7ef54ba14573be7bddb4ebc32f9f",
            "a8fd5e50421d438c9a5b39ffc04805d7",
            "4463ff4d07c34e659081d8d4966563e8",
            "b6d4a71eea1b43dfa3d465c2d9f55f6b",
            "3f394d8f0db945f6a208389d08922c34",
            "dcb93fa49074413785bb9e1a92ad46a7",
            "2dc9c9675dfc47e9bbf1e7ade006e757",
            "5bf9f8fce05f4d84a3410c920496cb7b",
            "f5b4b71d5444472eae0413771ff64b47",
            "f06358a66fd84424a0fcca756d5c4438"
          ]
        },
        "id": "ac8ce3f8-b1d1-48eb-9ba8-1d9828c63a4b",
        "outputId": "471ebdbb-8ab3-498d-f5b8-55a9d3164ffc"
      },
      "outputs": [
        {
          "output_type": "stream",
          "name": "stdout",
          "text": [
            "                                             Content  Label\n",
            "0  denial of normal the con be asked to comment o...      1\n",
            "1  just by being able to tweet this insufferable ...      1\n",
            "2  that is retarded you too cute to be single tha...      1\n",
            "3  thought of a real badass mongol style declarat...      1\n",
            "4                                afro american basho      1\n",
            "Content    0\n",
            "Label      0\n",
            "dtype: int64\n",
            "Training samples: 525067\n",
            "Testing samples: 131267\n"
          ]
        },
        {
          "output_type": "stream",
          "name": "stderr",
          "text": [
            "/usr/local/lib/python3.10/dist-packages/huggingface_hub/utils/_auth.py:94: UserWarning: \n",
            "The secret `HF_TOKEN` does not exist in your Colab secrets.\n",
            "To authenticate with the Hugging Face Hub, create a token in your settings tab (https://huggingface.co/settings/tokens), set it as secret in your Google Colab and restart your session.\n",
            "You will be able to reuse this secret in all of your notebooks.\n",
            "Please note that authentication is recommended but still optional to access public models or datasets.\n",
            "  warnings.warn(\n"
          ]
        },
        {
          "output_type": "display_data",
          "data": {
            "text/plain": [
              "tokenizer_config.json:   0%|          | 0.00/48.0 [00:00<?, ?B/s]"
            ],
            "application/vnd.jupyter.widget-view+json": {
              "version_major": 2,
              "version_minor": 0,
              "model_id": "7e680c34b0bf4ba396ea259aecd3e8e5"
            }
          },
          "metadata": {}
        },
        {
          "output_type": "display_data",
          "data": {
            "text/plain": [
              "vocab.txt:   0%|          | 0.00/232k [00:00<?, ?B/s]"
            ],
            "application/vnd.jupyter.widget-view+json": {
              "version_major": 2,
              "version_minor": 0,
              "model_id": "61422587474e47f7bf62dd6c4be70da5"
            }
          },
          "metadata": {}
        },
        {
          "output_type": "display_data",
          "data": {
            "text/plain": [
              "tokenizer.json:   0%|          | 0.00/466k [00:00<?, ?B/s]"
            ],
            "application/vnd.jupyter.widget-view+json": {
              "version_major": 2,
              "version_minor": 0,
              "model_id": "51232cd3fdab4b7d9f7a4be6fb303d06"
            }
          },
          "metadata": {}
        },
        {
          "output_type": "display_data",
          "data": {
            "text/plain": [
              "config.json:   0%|          | 0.00/483 [00:00<?, ?B/s]"
            ],
            "application/vnd.jupyter.widget-view+json": {
              "version_major": 2,
              "version_minor": 0,
              "model_id": "e876adf673054b458c45859d9b09a436"
            }
          },
          "metadata": {}
        }
      ],
      "source": [
        "import pandas as pd\n",
        "from transformers import DistilBertTokenizer, DistilBertForSequenceClassification, AdamW\n",
        "import torch\n",
        "from torch.utils.data import DataLoader, TensorDataset\n",
        "from sklearn.model_selection import train_test_split\n",
        "from sklearn.metrics import accuracy_score, precision_recall_fscore_support\n",
        "import matplotlib.pyplot as plt\n",
        "\n",
        "# 1. Load the dataset\n",
        "df2 = pd.read_csv(r\"only_english2.csv\")\n",
        "\n",
        "# Basic data checks\n",
        "print(df2.head())\n",
        "print(df2.isnull().sum())\n",
        "assert 'Content' in df2.columns, \"Missing 'Content' column\"\n",
        "assert 'Label' in df2.columns, \"Missing 'Label' column\"\n",
        "\n",
        "# 2. Split the data\n",
        "texts = df2['Content'].tolist()\n",
        "labels = df2['Label'].tolist()\n",
        "\n",
        "train_texts, test_texts, train_labels, test_labels = train_test_split(\n",
        "    texts, labels, test_size=0.2, random_state=42, stratify=labels\n",
        ")\n",
        "\n",
        "print(f\"Training samples: {len(train_texts)}\")\n",
        "print(f\"Testing samples: {len(test_texts)}\")\n",
        "\n",
        "# 3. Tokenize the data\n",
        "tokenizer = DistilBertTokenizer.from_pretrained(\"distilbert-base-uncased\")\n",
        "\n",
        "encoded_train = tokenizer(\n",
        "    train_texts,\n",
        "    padding=True,\n",
        "    truncation=True,\n",
        "    max_length=64,\n",
        "    return_tensors=\"pt\"\n",
        ")\n",
        "\n",
        "encoded_test = tokenizer(\n",
        "    test_texts,\n",
        "    padding=True,\n",
        "    truncation=True,\n",
        "    max_length=64,\n",
        "    return_tensors=\"pt\"\n",
        ")"
      ]
    },
    {
      "cell_type": "markdown",
      "source": [
        "Data Loader"
      ],
      "metadata": {
        "id": "p7wqHonJFRIE"
      },
      "id": "p7wqHonJFRIE"
    },
    {
      "cell_type": "code",
      "execution_count": null,
      "id": "e0a15613-26c0-4b92-8c0b-6c00d0227e67",
      "metadata": {
        "id": "e0a15613-26c0-4b92-8c0b-6c00d0227e67",
        "colab": {
          "base_uri": "https://localhost:8080/",
          "height": 156,
          "referenced_widgets": [
            "f102e8db692b4937b5861c64c6bac982",
            "ff1eeb4106e143968a77de4981b61653",
            "aafed48eef084f39af2a95e69a642c0f",
            "6eb39b6fd5db4c4995aaccd33575ca8f",
            "013b4553f65a479f925f7f5035d1ecb9",
            "e75caf00081148fb98b0726034b87592",
            "8b255b4548e74000ac42232584eb38ed",
            "a8e4eed0e51f4691bab894d7d9170f28",
            "782971c446704b359bd63ee0460c7641",
            "80219c264f9c42c2bfc95ae247bc9fc3",
            "cc90913816ed4912ab681c69bf3cd9bb"
          ]
        },
        "outputId": "15e786f7-4058-45dd-b0f4-c211429ef55a"
      },
      "outputs": [
        {
          "output_type": "display_data",
          "data": {
            "text/plain": [
              "model.safetensors:   0%|          | 0.00/268M [00:00<?, ?B/s]"
            ],
            "application/vnd.jupyter.widget-view+json": {
              "version_major": 2,
              "version_minor": 0,
              "model_id": "f102e8db692b4937b5861c64c6bac982"
            }
          },
          "metadata": {}
        },
        {
          "output_type": "stream",
          "name": "stderr",
          "text": [
            "Some weights of DistilBertForSequenceClassification were not initialized from the model checkpoint at distilbert-base-uncased and are newly initialized: ['classifier.bias', 'classifier.weight', 'pre_classifier.bias', 'pre_classifier.weight']\n",
            "You should probably TRAIN this model on a down-stream task to be able to use it for predictions and inference.\n"
          ]
        },
        {
          "output_type": "stream",
          "name": "stdout",
          "text": [
            "Using device: cuda\n"
          ]
        },
        {
          "output_type": "stream",
          "name": "stderr",
          "text": [
            "/usr/local/lib/python3.10/dist-packages/transformers/optimization.py:591: FutureWarning: This implementation of AdamW is deprecated and will be removed in a future version. Use the PyTorch implementation torch.optim.AdamW instead, or set `no_deprecation_warning=True` to disable this warning\n",
            "  warnings.warn(\n"
          ]
        }
      ],
      "source": [
        "# 4. Create datasets and dataloaders\n",
        "train_labels_tensor = torch.tensor(train_labels)\n",
        "test_labels_tensor = torch.tensor(test_labels)\n",
        "\n",
        "train_dataset = TensorDataset(\n",
        "    encoded_train['input_ids'],\n",
        "    encoded_train['attention_mask'],\n",
        "    train_labels_tensor\n",
        ")\n",
        "\n",
        "test_dataset = TensorDataset(\n",
        "    encoded_test['input_ids'],\n",
        "    encoded_test['attention_mask'],\n",
        "    test_labels_tensor\n",
        ")\n",
        "\n",
        "batch_size = 16\n",
        "\n",
        "train_dataloader = DataLoader(\n",
        "    train_dataset,\n",
        "    batch_size=batch_size,\n",
        "    shuffle=True\n",
        ")\n",
        "\n",
        "test_dataloader = DataLoader(\n",
        "    test_dataset,\n",
        "    batch_size=batch_size,\n",
        "    shuffle=False\n",
        ")\n",
        "\n",
        "# 5. Set up the model and optimizer\n",
        "model = DistilBertForSequenceClassification.from_pretrained(\n",
        "    \"distilbert-base-uncased\",\n",
        "    num_labels=2\n",
        ")\n",
        "\n",
        "device = torch.device(\"cuda\") if torch.cuda.is_available() else torch.device(\"cpu\")\n",
        "model.to(device)\n",
        "print(f\"Using device: {device}\")\n",
        "\n",
        "optimizer = AdamW(model.parameters(), lr=1e-5)"
      ]
    },
    {
      "cell_type": "markdown",
      "source": [
        "**Training the Model**"
      ],
      "metadata": {
        "id": "DDozOYmJFW2f"
      },
      "id": "DDozOYmJFW2f"
    },
    {
      "cell_type": "code",
      "execution_count": null,
      "id": "73784849-7902-420d-abc2-9e5516a725d0",
      "metadata": {
        "id": "73784849-7902-420d-abc2-9e5516a725d0",
        "colab": {
          "base_uri": "https://localhost:8080/",
          "height": 524
        },
        "outputId": "accb56c2-f0a8-49ac-b1bb-1613605dc6c4"
      },
      "outputs": [
        {
          "output_type": "stream",
          "name": "stdout",
          "text": [
            "Epoch 1/3, Average Loss: 0.2960\n",
            "Epoch 2/3, Average Loss: 0.1962\n",
            "Epoch 3/3, Average Loss: 0.1351\n"
          ]
        },
        {
          "output_type": "display_data",
          "data": {
            "text/plain": [
              "<Figure size 640x480 with 1 Axes>"
            ],
            "image/png": "[encoded data removed]"
          },
          "metadata": {}
        }
      ],
      "source": [
        "# 6. Training loop\n",
        "num_epochs = 3\n",
        "losses = []\n",
        "\n",
        "for epoch in range(num_epochs):\n",
        "    model.train()\n",
        "    total_loss = 0\n",
        "\n",
        "    for batch in train_dataloader:\n",
        "        batch_input_ids, batch_attention_mask, batch_labels = [b.to(device) for b in batch]\n",
        "\n",
        "        optimizer.zero_grad()\n",
        "\n",
        "        outputs = model(\n",
        "            input_ids=batch_input_ids,\n",
        "            attention_mask=batch_attention_mask,\n",
        "            labels=batch_labels\n",
        "        )\n",
        "        loss = outputs.loss\n",
        "        loss.backward()\n",
        "        optimizer.step()\n",
        "\n",
        "        total_loss += loss.item()\n",
        "\n",
        "    avg_loss = total_loss / len(train_dataloader)\n",
        "    losses.append(avg_loss)\n",
        "    print(f\"Epoch {epoch + 1}/{num_epochs}, Average Loss: {avg_loss:.4f}\")\n",
        "\n",
        "# Plot training loss\n",
        "plt.plot(range(1, num_epochs + 1), losses, marker='o')\n",
        "plt.xlabel('Epoch')\n",
        "plt.ylabel('Average Loss')\n",
        "plt.title('Training Loss Over Epochs')\n",
        "plt.show()"
      ]
    },
    {
      "cell_type": "code",
      "execution_count": null,
      "id": "78bb7bb4-3ce1-463f-9df1-ffc02dfdc6cb",
      "metadata": {
        "id": "78bb7bb4-3ce1-463f-9df1-ffc02dfdc6cb",
        "colab": {
          "base_uri": "https://localhost:8080/"
        },
        "outputId": "3703f0d2-a54b-4c83-acec-05b2a058cbf1"
      },
      "outputs": [
        {
          "output_type": "stream",
          "name": "stdout",
          "text": [
            "Test Accuracy: 0.9118\n",
            "Test Precision: 0.9126\n",
            "Test Recall: 0.9120\n",
            "Test F1 Score: 0.9123\n",
            "Training complete! Model and tokenizer saved.\n"
          ]
        }
      ],
      "source": [
        "# 7. Evaluation\n",
        "model.eval()\n",
        "\n",
        "true_labels = []\n",
        "predictions = []\n",
        "\n",
        "with torch.no_grad():\n",
        "    for batch in test_dataloader:\n",
        "        batch_input_ids, batch_attention_mask, batch_labels = [b.to(device) for b in batch]\n",
        "\n",
        "        outputs = model(\n",
        "            input_ids=batch_input_ids,\n",
        "            attention_mask=batch_attention_mask\n",
        "        )\n",
        "\n",
        "        logits = outputs.logits\n",
        "        preds = torch.argmax(logits, dim=1).cpu().numpy()\n",
        "        label_ids = batch_labels.cpu().numpy()\n",
        "\n",
        "        predictions.extend(preds)\n",
        "        true_labels.extend(label_ids)\n",
        "\n",
        "# Calculate metrics\n",
        "accuracy = accuracy_score(true_labels, predictions)\n",
        "precision, recall, f1, _ = precision_recall_fscore_support(\n",
        "    true_labels, predictions, average='binary'\n",
        ")\n",
        "\n",
        "print(f\"Test Accuracy: {accuracy:.4f}\")\n",
        "print(f\"Test Precision: {precision:.4f}\")\n",
        "print(f\"Test Recall: {recall:.4f}\")\n",
        "print(f\"Test F1 Score: {f1:.4f}\")\n",
        "\n",
        "# 8. Save the model and tokenizer\n",
        "save_directory = \"E:/hate_english/trained_distilbert_model\"\n",
        "model.save_pretrained(save_directory)\n",
        "tokenizer.save_pretrained(save_directory)\n",
        "\n",
        "print(\"Training complete! Model and tokenizer saved.\")"
      ]
    },
    {
      "cell_type": "markdown",
      "source": [
        "Testing the Model"
      ],
      "metadata": {
        "id": "wVesZKJtFmZj"
      },
      "id": "wVesZKJtFmZj"
    },
    {
      "cell_type": "code",
      "execution_count": null,
      "id": "19ee5015-625a-4792-84fd-d6a468928aab",
      "metadata": {
        "id": "19ee5015-625a-4792-84fd-d6a468928aab",
        "colab": {
          "base_uri": "https://localhost:8080/"
        },
        "outputId": "2f262cc1-15d6-4970-a3dc-6451e4160d6e"
      },
      "outputs": [
        {
          "output_type": "stream",
          "name": "stdout",
          "text": [
            "Sentence: fuck you\n",
            "Classification: Hate Speech\n"
          ]
        }
      ],
      "source": [
        "from transformers import DistilBertTokenizer, DistilBertForSequenceClassification\n",
        "import torch\n",
        "\n",
        "# Load the trained model and tokenizer\n",
        "model_directory = \"/content/E:/hate_english/trained_distilbert_model\"\n",
        "tokenizer = DistilBertTokenizer.from_pretrained(model_directory)\n",
        "model = DistilBertForSequenceClassification.from_pretrained(model_directory)\n",
        "\n",
        "# Set the device\n",
        "device = torch.device(\"cuda\") if torch.cuda.is_available() else torch.device(\"cpu\")\n",
        "model.to(device)\n",
        "\n",
        "# Function to classify a single sentence\n",
        "def classify_sentence(sentence):\n",
        "    # Tokenize the input sentence\n",
        "    encoded_input = tokenizer(\n",
        "        sentence,\n",
        "        padding=True,\n",
        "        truncation=True,\n",
        "        max_length=64,\n",
        "        return_tensors=\"pt\"\n",
        "    )\n",
        "\n",
        "    # Move tensors to the correct device\n",
        "    input_ids = encoded_input['input_ids'].to(device)\n",
        "    attention_mask = encoded_input['attention_mask'].to(device)\n",
        "\n",
        "    # Make prediction\n",
        "    model.eval()\n",
        "    with torch.no_grad():\n",
        "        output = model(input_ids=input_ids, attention_mask=attention_mask)\n",
        "\n",
        "    # Get the logits and predicted label\n",
        "    logits = output.logits\n",
        "    predicted_label = torch.argmax(logits, dim=1).item()\n",
        "\n",
        "    # Map the label to the class name\n",
        "    label_map = {0: \"Non-Hate Speech\", 1: \"Hate Speech\"}\n",
        "    return label_map[predicted_label]\n",
        "\n",
        "# Test the function with a sample sentence\n",
        "sentence = \"fuck you\"\n",
        "result = classify_sentence(sentence)\n",
        "print(f\"Sentence: {sentence}\")\n",
        "print(f\"Classification: {result}\")"
      ]
    },
    {
      "cell_type": "markdown",
      "source": [
        "### Evaluation"
      ],
      "metadata": {
        "id": "Y4b79kczFsbP"
      },
      "id": "Y4b79kczFsbP"
    },
    {
      "cell_type": "code",
      "execution_count": null,
      "id": "de9a18c2-0a83-4731-9434-db01baaea2ff",
      "metadata": {
        "id": "de9a18c2-0a83-4731-9434-db01baaea2ff",
        "colab": {
          "base_uri": "https://localhost:8080/"
        },
        "outputId": "28fc20df-c170-4e26-e84b-6a3396b33402"
      },
      "outputs": [
        {
          "output_type": "stream",
          "name": "stdout",
          "text": [
            "Confusion Matrix:\n",
            "[[59467  5769]\n",
            " [ 5810 60221]]\n"
          ]
        }
      ],
      "source": [
        "from sklearn.metrics import confusion_matrix\n",
        "\n",
        "# Confusion Matrix\n",
        "cm = confusion_matrix(true_labels, predictions)\n",
        "print(\"Confusion Matrix:\")\n",
        "print(cm)"
      ]
    },
    {
      "cell_type": "code",
      "source": [
        "import matplotlib.pyplot as plt\n",
        "from sklearn.metrics import confusion_matrix, ConfusionMatrixDisplay\n",
        "\n",
        "# Assuming true_labels and predictions are populated during the evaluation phase\n",
        "\n",
        "# Compute the confusion matrix\n",
        "cm = confusion_matrix(true_labels, predictions)\n",
        "\n",
        "# Display the confusion matrix using ConfusionMatrixDisplay\n",
        "cm_display = ConfusionMatrixDisplay(confusion_matrix=cm, display_labels=[0, 1])\n",
        "\n",
        "# Plot the confusion matrix\n",
        "cm_display.plot(cmap='Blues')\n",
        "\n",
        "# Show the plot\n",
        "plt.title('Confusion Matrix')\n",
        "plt.show()\n"
      ],
      "metadata": {
        "colab": {
          "base_uri": "https://localhost:8080/",
          "height": 472
        },
        "id": "0A1PalwWwu9h",
        "outputId": "66f52c31-29c6-4fab-d910-ed40197a9188"
      },
      "id": "0A1PalwWwu9h",
      "execution_count": null,
      "outputs": [
        {
          "output_type": "display_data",
          "data": {
            "text/plain": [
              "<Figure size 640x480 with 2 Axes>"
            ],
            "image/png": "[encoded data removed]"
          },
          "metadata": {}
        }
      ]
    },
    {
      "cell_type": "markdown",
      "source": [
        "#### AUROC Curve(DistilBERT)"
      ],
      "metadata": {
        "id": "UCTSuUuzF-wW"
      },
      "id": "UCTSuUuzF-wW"
    },
    {
      "cell_type": "code",
      "source": [
        "from sklearn.metrics import roc_auc_score, roc_curve\n",
        "import matplotlib.pyplot as plt\n",
        "\n",
        "# After evaluation, compute the AUROC curve\n",
        "\n",
        "probabilities = []  # For AUROC\n",
        "true_labels = []  # True labels from the test set\n",
        "predictions = []  # Predicted labels from the model\n",
        "\n",
        "with torch.no_grad():\n",
        "    for batch in test_dataloader:\n",
        "        batch_input_ids, batch_attention_mask, batch_labels = [b.to(device) for b in batch]\n",
        "\n",
        "        outputs = model(\n",
        "            input_ids=batch_input_ids,\n",
        "            attention_mask=batch_attention_mask\n",
        "        )\n",
        "\n",
        "        logits = outputs.logits\n",
        "        preds = torch.argmax(logits, dim=1).cpu().numpy()\n",
        "        label_ids = batch_labels.cpu().numpy()\n",
        "\n",
        "        # Get predicted probabilities for the positive class (class 1)\n",
        "        prob = torch.nn.functional.softmax(logits, dim=-1)[:, 1].cpu().numpy()\n",
        "\n",
        "        predictions.extend(preds)\n",
        "        true_labels.extend(label_ids)\n",
        "        probabilities.extend(prob)\n",
        "\n",
        "# Calculate AUROC\n",
        "roc_auc = roc_auc_score(true_labels, probabilities)\n",
        "print(f\"Test AUROC: {roc_auc:.4f}\")  # Print AUROC score\n",
        "\n",
        "# Plot ROC Curve\n",
        "fpr, tpr, thresholds = roc_curve(true_labels, probabilities)\n",
        "plt.figure(figsize=(8, 6))\n",
        "plt.plot(fpr, tpr, label=f'AUROC = {roc_auc:.4f}')\n",
        "plt.plot([0, 1], [0, 1], linestyle='--', color='gray')\n",
        "plt.xlabel('False Positive Rate')\n",
        "plt.ylabel('True Positive Rate')\n",
        "plt.title('Receiver Operating Characteristic (ROC) Curve')\n",
        "plt.legend(loc='lower right')\n",
        "plt.show()\n"
      ],
      "metadata": {
        "colab": {
          "base_uri": "https://localhost:8080/",
          "height": 581
        },
        "id": "tFFeZzC6v51n",
        "outputId": "495b0ecd-209f-468a-85b7-6b8e4b62944f"
      },
      "id": "tFFeZzC6v51n",
      "execution_count": null,
      "outputs": [
        {
          "output_type": "stream",
          "name": "stdout",
          "text": [
            "Test AUROC: 0.9734\n"
          ]
        },
        {
          "output_type": "display_data",
          "data": {
            "text/plain": [
              "<Figure size 800x600 with 1 Axes>"
            ],
            "image/png": "[encoded data removed]"
          },
          "metadata": {}
        }
      ]
    },
    {
      "cell_type": "markdown",
      "source": [
        "### **LSTM Model**"
      ],
      "metadata": {
        "id": "E4Dot4VaGIb1"
      },
      "id": "E4Dot4VaGIb1"
    },
    {
      "cell_type": "code",
      "source": [
        "import pandas as pd\n",
        "from sklearn.model_selection import train_test_split\n",
        "from sklearn.metrics import classification_report, accuracy_score\n",
        "from tensorflow.keras.preprocessing.text import Tokenizer\n",
        "from tensorflow.keras.preprocessing.sequence import pad_sequences\n",
        "from tensorflow.keras.models import Sequential\n",
        "from tensorflow.keras.layers import Embedding, LSTM, Dense, Dropout\n",
        "\n",
        "# Load the dataset\n",
        "file_path = '/content/only_english2.csv'  # Replace with your file path\n",
        "data = pd.read_csv(file_path)\n",
        "\n",
        "# Preparing the data\n",
        "X = data['Content']\n",
        "y = data['Label']\n",
        "\n",
        "# Tokenization and Padding\n",
        "tokenizer = Tokenizer(num_words=5000, oov_token=\"<OOV>\")\n",
        "tokenizer.fit_on_texts(X)\n",
        "\n",
        "X_seq = tokenizer.texts_to_sequences(X)\n",
        "X_padded = pad_sequences(X_seq, maxlen=100, padding='post', truncating='post')\n",
        "\n",
        "# Train-test split\n",
        "X_train, X_test, y_train, y_test = train_test_split(X_padded, y, test_size=0.2, random_state=42, stratify=y)\n",
        "\n",
        "# Build the LSTM model\n",
        "model = Sequential([\n",
        "    Embedding(input_dim=5000, output_dim=128, input_length=100),\n",
        "    LSTM(64, return_sequences=True),\n",
        "    Dropout(0.2),\n",
        "    LSTM(32),\n",
        "    Dropout(0.2),\n",
        "    Dense(64, activation='relu'),\n",
        "    Dense(1, activation='sigmoid')\n",
        "])\n",
        "\n",
        "# Compile the model\n",
        "model.compile(optimizer='adam', loss='binary_crossentropy', metrics=['accuracy'])\n",
        "\n",
        "# Train the model\n",
        "history = model.fit(X_train, y_train, epochs=5, batch_size=32, validation_split=0.2)\n",
        "\n",
        "# Evaluate the model\n",
        "loss, accuracy = model.evaluate(X_test, y_test)\n",
        "y_pred = (model.predict(X_test) > 0.5).astype(\"int32\")\n",
        "\n",
        "# Generate classification report\n",
        "report = classification_report(y_test, y_pred)\n",
        "\n",
        "print(f\"Accuracy: {accuracy:.4f}\")\n",
        "print(\"Classification Report:\")\n",
        "print(report)\n"
      ],
      "metadata": {
        "id": "94lR8wcvzcF6",
        "colab": {
          "base_uri": "https://localhost:8080/"
        },
        "outputId": "7201f69d-1142-490b-8430-c4fbf122847a"
      },
      "id": "94lR8wcvzcF6",
      "execution_count": 4,
      "outputs": [
        {
          "output_type": "stream",
          "name": "stderr",
          "text": [
            "/usr/local/lib/python3.10/dist-packages/keras/src/layers/core/embedding.py:90: UserWarning: Argument `input_length` is deprecated. Just remove it.\n",
            "  warnings.warn(\n"
          ]
        },
        {
          "output_type": "stream",
          "name": "stdout",
          "text": [
            "Epoch 1/5\n",
            "\u001b[1m13127/13127\u001b[0m \u001b[32m━━━━━━━━━━━━━━━━━━━━\u001b[0m\u001b[37m\u001b[0m \u001b[1m177s\u001b[0m 13ms/step - accuracy: 0.6301 - loss: 0.5920 - val_accuracy: 0.8311 - val_loss: 0.3688\n",
            "Epoch 2/5\n",
            "\u001b[1m13127/13127\u001b[0m \u001b[32m━━━━━━━━━━━━━━━━━━━━\u001b[0m\u001b[37m\u001b[0m \u001b[1m196s\u001b[0m 13ms/step - accuracy: 0.8442 - loss: 0.3457 - val_accuracy: 0.8485 - val_loss: 0.3344\n",
            "Epoch 3/5\n",
            "\u001b[1m13127/13127\u001b[0m \u001b[32m━━━━━━━━━━━━━━━━━━━━\u001b[0m\u001b[37m\u001b[0m \u001b[1m201s\u001b[0m 13ms/step - accuracy: 0.8658 - loss: 0.3005 - val_accuracy: 0.8546 - val_loss: 0.3202\n",
            "Epoch 4/5\n",
            "\u001b[1m13127/13127\u001b[0m \u001b[32m━━━━━━━━━━━━━━━━━━━━\u001b[0m\u001b[37m\u001b[0m \u001b[1m203s\u001b[0m 13ms/step - accuracy: 0.8834 - loss: 0.2671 - val_accuracy: 0.8575 - val_loss: 0.3184\n",
            "Epoch 5/5\n",
            "\u001b[1m13127/13127\u001b[0m \u001b[32m━━━━━━━━━━━━━━━━━━━━\u001b[0m\u001b[37m\u001b[0m \u001b[1m199s\u001b[0m 13ms/step - accuracy: 0.8979 - loss: 0.2386 - val_accuracy: 0.8612 - val_loss: 0.3174\n",
            "\u001b[1m4103/4103\u001b[0m \u001b[32m━━━━━━━━━━━━━━━━━━━━\u001b[0m\u001b[37m\u001b[0m \u001b[1m21s\u001b[0m 5ms/step - accuracy: 0.8591 - loss: 0.3189\n",
            "\u001b[1m4103/4103\u001b[0m \u001b[32m━━━━━━━━━━━━━━━━━━━━\u001b[0m\u001b[37m\u001b[0m \u001b[1m18s\u001b[0m 4ms/step\n",
            "Accuracy: 0.8607\n",
            "Classification Report:\n",
            "              precision    recall  f1-score   support\n",
            "\n",
            "           0       0.86      0.85      0.86     65236\n",
            "           1       0.86      0.87      0.86     66031\n",
            "\n",
            "    accuracy                           0.86    131267\n",
            "   macro avg       0.86      0.86      0.86    131267\n",
            "weighted avg       0.86      0.86      0.86    131267\n",
            "\n"
          ]
        }
      ]
    },
    {
      "cell_type": "markdown",
      "source": [
        "#### Testing"
      ],
      "metadata": {
        "id": "vw64YFDFGXto"
      },
      "id": "vw64YFDFGXto"
    },
    {
      "cell_type": "code",
      "source": [
        "# Function to preprocess and predict on user input\n",
        "def predict_hate_speech(sentence, tokenizer, model):\n",
        "    # Preprocess the input sentence\n",
        "    seq = tokenizer.texts_to_sequences([sentence])\n",
        "    padded_seq = pad_sequences(seq, maxlen=100, padding='post', truncating='post')\n",
        "\n",
        "    # Predict the label\n",
        "    prediction = model.predict(padded_seq)\n",
        "    label = \"Hate Speech\" if prediction > 0.5 else \"Non-Hate Speech\"\n",
        "\n",
        "    return label\n",
        "\n",
        "# Example usage\n",
        "while True:\n",
        "    user_input = input(\"Enter a sentence (or type 'exit' to quit):\")\n",
        "    if user_input.lower() == \"exit\":\n",
        "        break\n",
        "    result = predict_hate_speech(user_input, tokenizer, model)\n",
        "    print(f\"Prediction: {result}\")\n"
      ],
      "metadata": {
        "colab": {
          "base_uri": "https://localhost:8080/"
        },
        "id": "Uwz2S_tlRM8m",
        "outputId": "4425fa04-e52b-46a6-f89b-40e1c2184977"
      },
      "id": "Uwz2S_tlRM8m",
      "execution_count": 5,
      "outputs": [
        {
          "name": "stdout",
          "output_type": "stream",
          "text": [
            "Enter a sentence (or type 'exit' to quit):People from that group are worthless and should be excluded from society.\n",
            "\u001b[1m1/1\u001b[0m \u001b[32m━━━━━━━━━━━━━━━━━━━━\u001b[0m\u001b[37m\u001b[0m \u001b[1m0s\u001b[0m 51ms/step\n",
            "Prediction: Hate Speech\n",
            "Enter a sentence (or type 'exit' to quit):I disagree with the group's opinion, but I respect their right to express it.\n",
            "\u001b[1m1/1\u001b[0m \u001b[32m━━━━━━━━━━━━━━━━━━━━\u001b[0m\u001b[37m\u001b[0m \u001b[1m0s\u001b[0m 21ms/step\n",
            "Prediction: Non-Hate Speech\n",
            "Enter a sentence (or type 'exit' to quit):exit\n"
          ]
        }
      ]
    },
    {
      "cell_type": "markdown",
      "source": [
        "### **Naive Bayes Model**"
      ],
      "metadata": {
        "id": "ceyNrfw9ecnj"
      },
      "id": "ceyNrfw9ecnj"
    },
    {
      "cell_type": "code",
      "source": [
        "import pandas as pd\n",
        "from sklearn.model_selection import train_test_split\n",
        "from sklearn.feature_extraction.text import TfidfVectorizer\n",
        "from sklearn.naive_bayes import MultinomialNB\n",
        "from sklearn.metrics import classification_report, accuracy_score\n",
        "\n",
        "# Load the dataset\n",
        "file_path = '/content/only_english2.csv'  # Replace with your dataset path\n",
        "data = pd.read_csv(file_path)\n",
        "\n",
        "# Splitting features (X) and labels (y)\n",
        "X = data['Content']\n",
        "y = data['Label']\n",
        "\n",
        "# Split the dataset into training and testing sets\n",
        "X_train, X_test, y_train, y_test = train_test_split(X, y, test_size=0.2, random_state=42, stratify=y)\n",
        "\n",
        "# TF-IDF Vectorization\n",
        "vectorizer = TfidfVectorizer(max_features=5000, stop_words='english')\n",
        "X_train_tfidf = vectorizer.fit_transform(X_train)\n",
        "X_test_tfidf = vectorizer.transform(X_test)\n",
        "\n",
        "# Train a Naive Bayes model\n",
        "model = MultinomialNB()\n",
        "model.fit(X_train_tfidf, y_train)\n",
        "\n",
        "# Predict on the test set\n",
        "y_pred = model.predict(X_test_tfidf)\n",
        "\n",
        "# Evaluate the model\n",
        "accuracy = accuracy_score(y_test, y_pred)\n",
        "report = classification_report(y_test, y_pred)\n",
        "\n",
        "print(f\"Accuracy: {accuracy:.4f}\")\n",
        "print(\"Classification Report:\")\n",
        "print(report)\n"
      ],
      "metadata": {
        "colab": {
          "base_uri": "https://localhost:8080/"
        },
        "id": "FjfQGoyPIWnX",
        "outputId": "8c776191-cc3b-4c73-93be-33a729efd74f"
      },
      "id": "FjfQGoyPIWnX",
      "execution_count": 2,
      "outputs": [
        {
          "output_type": "stream",
          "name": "stdout",
          "text": [
            "Accuracy: 0.7796\n",
            "Classification Report:\n",
            "              precision    recall  f1-score   support\n",
            "\n",
            "           0       0.82      0.71      0.76     65236\n",
            "           1       0.75      0.85      0.80     66031\n",
            "\n",
            "    accuracy                           0.78    131267\n",
            "   macro avg       0.79      0.78      0.78    131267\n",
            "weighted avg       0.79      0.78      0.78    131267\n",
            "\n"
          ]
        }
      ]
    },
    {
      "cell_type": "markdown",
      "source": [
        "Testing"
      ],
      "metadata": {
        "id": "8jGbrl_CGjqL"
      },
      "id": "8jGbrl_CGjqL"
    },
    {
      "cell_type": "code",
      "source": [
        "import random\n",
        "import pandas as pd\n",
        "\n",
        "# Function to preprocess and predict using the Naive Bayes model\n",
        "def predict_hate_speech(sentence, vectorizer, model):\n",
        "    # Preprocess the input sentence using the TF-IDF vectorizer\n",
        "    vectorized_sentence = vectorizer.transform([sentence])\n",
        "    prediction = model.predict(vectorized_sentence)\n",
        "    label = \"Hate Speech\" if prediction[0] == 1 else \"Non-Hate Speech\"\n",
        "    return label\n",
        "\n",
        "# Main interactive program\n",
        "while True:\n",
        "    # Randomly select three options from the dataset\n",
        "    options = data.sample(3)['Content'].tolist()\n",
        "\n",
        "    print(\"Choose a sentence to analyze:\")\n",
        "    for i, option in enumerate(options, start=1):\n",
        "        print(f\"{i}. {option}\")\n",
        "    print(\"4. Exit\")\n",
        "\n",
        "    # Get user input\n",
        "    choice = input(\"Enter your choice (1-4): \").strip()\n",
        "\n",
        "    if choice == '4':\n",
        "        print(\"Exiting the program.\")\n",
        "        break\n",
        "\n",
        "    if choice in ['1', '2', '3']:\n",
        "        selected_sentence = options[int(choice) - 1]\n",
        "        result = predict_hate_speech(selected_sentence, vectorizer, model)\n",
        "        print(f\"Prediction: {result}\")\n",
        "    else:\n",
        "        print(\"Invalid choice. Please enter a number between 1 and 4.\")\n"
      ],
      "metadata": {
        "colab": {
          "base_uri": "https://localhost:8080/"
        },
        "id": "Wvpko5NjNm5t",
        "outputId": "ac685d70-5f2a-4af5-b4c1-e5f4133fc5fc"
      },
      "id": "Wvpko5NjNm5t",
      "execution_count": 10,
      "outputs": [
        {
          "output_type": "stream",
          "name": "stdout",
          "text": [
            "Choose a sentence to analyze:\n",
            "1. black white people will also always own black native people\n",
            "2. also a time since i went out meet this black girl through an app i did not realize i had stepped in a black area surrounded by angry ass black dudes who did not like white men in their area when i what a slut going to meet this girl but then here this go with the anarchists with that white mentality also there there some fucked up shit out there and to think this is going on in the u s in portland and seattle imagine old people getting attacked just walking around or getting robbed in those times for being white it is like something out of the third world glad you are all young and still a piece man\n",
            "3. white whites are more in stock than blacks\n",
            "4. Exit\n",
            "Enter your choice (1-4): 1\n",
            "Prediction: Hate Speech\n",
            "Choose a sentence to analyze:\n",
            "1. how unfortunate that no one cares what you think i am not sexist but football am not meant for women\n",
            "2. ok now that getting good looks was just a surprise coming from liberals like you\n",
            "3. rfa hi aide thanks for supporting my rfa it what a slut successful cheers\n",
            "4. Exit\n",
            "Enter your choice (1-4): 2\n",
            "Prediction: Hate Speech\n",
            "Choose a sentence to analyze:\n",
            "1. i remember i what a slut playing on a playground and a kid i what a slut playing with said something to me that i had never heard before i did not know what in the world a nigger was\n",
            "2. sorry sorry about the warning thing there you got to the revert there before i did\n",
            "3. vandalizing i ll report you to wikipedia next time you vandalize good articles or my public lecture pageboy get that goon\n",
            "4. Exit\n",
            "Enter your choice (1-4): 2\n",
            "Prediction: Non-Hate Speech\n",
            "Choose a sentence to analyze:\n",
            "1. or you lick your moms pee hole\n",
            "2. wiktionaryarchicebidae wiktionaryarchicebus\n",
            "3. i need to stop being a little bitch laughing out loud\n",
            "4. Exit\n",
            "Enter your choice (1-4): 4\n",
            "Exiting the program.\n"
          ]
        }
      ]
    },
    {
      "cell_type": "markdown",
      "source": [
        "Plotting the precision, Recall and F1-Score"
      ],
      "metadata": {
        "id": "1d24wW8wG1zj"
      },
      "id": "1d24wW8wG1zj"
    },
    {
      "cell_type": "code",
      "source": [
        "import matplotlib.pyplot as plt\n",
        "import seaborn as sns\n",
        "from sklearn.metrics import confusion_matrix, ConfusionMatrixDisplay\n",
        "\n",
        "# Generate confusion matrix\n",
        "cm = confusion_matrix(y_test, y_pred)\n",
        "\n",
        "# Extract metrics for visualization\n",
        "from sklearn.metrics import precision_recall_fscore_support\n",
        "\n",
        "metrics = precision_recall_fscore_support(y_test, y_pred, average=None, labels=[0, 1])\n",
        "precision, recall, f1_score = metrics[0], metrics[1], metrics[2]\n",
        "\n",
        "# Plot Precision, Recall, and F1-score for each class\n",
        "categories = ['Non-Hateful', 'Hateful']\n",
        "x = range(len(categories))\n",
        "\n",
        "plt.figure(figsize=(10, 6))\n",
        "plt.bar(x, precision, width=0.2, label='Precision', align='center')\n",
        "plt.bar([p + 0.2 for p in x], recall, width=0.2, label='Recall', align='center')\n",
        "plt.bar([p + 0.4 for p in x], f1_score, width=0.2, label='F1-Score', align='center')\n",
        "\n",
        "plt.xticks([p + 0.2 for p in x], categories)\n",
        "plt.title('Performance Metrics by Class')\n",
        "plt.ylabel('Score')\n",
        "plt.legend()\n",
        "plt.show()\n"
      ],
      "metadata": {
        "colab": {
          "base_uri": "https://localhost:8080/",
          "height": 545
        },
        "id": "KkvK-We3Iit0",
        "outputId": "86ee1ab2-7cdc-42ef-bbae-45a9820433c8"
      },
      "id": "KkvK-We3Iit0",
      "execution_count": 4,
      "outputs": [
        {
          "output_type": "display_data",
          "data": {
            "text/plain": [
              "<Figure size 1000x600 with 1 Axes>"
            ],
            "image/png": "[encoded data removed]"
          },
          "metadata": {}
        }
      ]
    },
    {
      "cell_type": "markdown",
      "source": [
        "#### **Comparing the Model Performances**"
      ],
      "metadata": {
        "id": "ah7sEEZaHEa2"
      },
      "id": "ah7sEEZaHEa2"
    },
    {
      "cell_type": "code",
      "source": [
        "import pandas as pd\n",
        "import matplotlib.pyplot as plt\n",
        "from sklearn.metrics import classification_report, accuracy_score\n",
        "\n",
        "# Function to gather outputs from the previous models\n",
        "\n",
        "def get_previous_outputs():\n",
        "    # Assuming previous outputs are stored as dictionaries or similar structures\n",
        "    naive_bayes_metrics = {\n",
        "        \"Model\": \"Naive Bayes\",\n",
        "        \"Accuracy\": 0.7796,\n",
        "        \"Precision\": 0.79,\n",
        "        \"Recall\": 0.78,\n",
        "        \"F1-Score\": 0.78\n",
        "    }\n",
        "\n",
        "    lstm_metrics = {\n",
        "        \"Model\": \"LSTM\",\n",
        "        \"Accuracy\": 0.8607,\n",
        "        \"Precision\": 0.86,\n",
        "        \"Recall\": 0.86,\n",
        "        \"F1-Score\": 0.86\n",
        "    }\n",
        "\n",
        "    distilbert_metrics = {\n",
        "        \"Model\": \"DistilBERT\",\n",
        "        \"Accuracy\": 0.9118,\n",
        "        \"Precision\": 0.9126,\n",
        "        \"Recall\": 0.9120,\n",
        "        \"F1-Score\": 0.9123\n",
        "    }\n",
        "\n",
        "    # Collect metrics into a list of dictionaries\n",
        "    return [naive_bayes_metrics, lstm_metrics, distilbert_metrics]\n",
        "\n",
        "# Function to take input data from previous outputs\n",
        "def compare_models():\n",
        "    # Fetch data from previous outputs\n",
        "    previous_outputs = get_previous_outputs()\n",
        "\n",
        "    # Create a DataFrame from the output data\n",
        "    results_df = pd.DataFrame(previous_outputs)\n",
        "\n",
        "    # Display the DataFrame\n",
        "    print(\"Model Performance Comparison:\\n\")\n",
        "    print(results_df)\n",
        "\n",
        "    # Visualization of model performance\n",
        "    plt.figure(figsize=(12, 6))\n",
        "    for metric in [\"Accuracy\", \"Precision\", \"Recall\", \"F1-Score\"]:\n",
        "        plt.plot(results_df[\"Model\"], results_df[metric], marker=\"o\", label=metric)\n",
        "\n",
        "    plt.title(\"Model Performance Comparison\")\n",
        "    plt.xlabel(\"Model\")\n",
        "    plt.ylabel(\"Score\")\n",
        "    plt.legend()\n",
        "    plt.grid()\n",
        "    plt.show()\n",
        "\n",
        "    # Identifying the best model based on F1-Score\n",
        "    best_model = results_df.loc[results_df[\"F1-Score\"].idxmax()]\n",
        "    print(\"\\nBest Model:\")\n",
        "    print(best_model)\n",
        "\n",
        "    # Reason for being the best\n",
        "    print(\"\\nReason:\")\n",
        "    print(f\"The {best_model['Model']} model is the best because it achieves the highest F1-Score ({best_model['F1-Score']:.4f}), which balances precision ({best_model['Precision']:.4f}) and recall ({best_model['Recall']:.4f}) effectively.\")\n",
        "\n",
        "# Run the comparison\n",
        "compare_models()\n"
      ],
      "metadata": {
        "colab": {
          "base_uri": "https://localhost:8080/",
          "height": 879
        },
        "id": "KUIrKqVVMjup",
        "outputId": "ac7e0064-73b9-4995-a511-570f508fab81"
      },
      "id": "KUIrKqVVMjup",
      "execution_count": 11,
      "outputs": [
        {
          "output_type": "stream",
          "name": "stdout",
          "text": [
            "Model Performance Comparison:\n",
            "\n",
            "         Model  Accuracy  Precision  Recall  F1-Score\n",
            "0  Naive Bayes    0.7796     0.7900   0.780    0.7800\n",
            "1         LSTM    0.8607     0.8600   0.860    0.8600\n",
            "2   DistilBERT    0.9118     0.9126   0.912    0.9123\n"
          ]
        },
        {
          "output_type": "display_data",
          "data": {
            "text/plain": [
              "<Figure size 1200x600 with 1 Axes>"
            ],
            "image/png": "[encoded data removed]"
          },
          "metadata": {}
        },
        {
          "output_type": "stream",
          "name": "stdout",
          "text": [
            "\n",
            "Best Model:\n",
            "Model        DistilBERT\n",
            "Accuracy         0.9118\n",
            "Precision        0.9126\n",
            "Recall            0.912\n",
            "F1-Score         0.9123\n",
            "Name: 2, dtype: object\n",
            "\n",
            "Reason:\n",
            "The DistilBERT model is the best because it achieves the highest F1-Score (0.9123), which balances precision (0.9126) and recall (0.9120) effectively.\n"
          ]
        }
      ]
    },
    {
      "cell_type": "markdown",
      "source": [
        "#### **Conclusion**\n",
        "In this project, we developed a robust hate speech detection system using state-of-the-art machine learning and deep learning techniques. Among the models evaluated, including DistilBERT, LSTM, and Naive Bayes, DistilBERT emerged as the best-performing model, achieving an impressive F1-Score of 0.9123 and an overall accuracy of 91.18%. These results highlight DistilBERT’s ability to balance precision (0.9126) and recall (0.9120) effectively, demonstrating its suitability for handling diverse and challenging textual data.\n",
        "\n",
        "The project emphasized the critical role of preprocessing and exploratory data analysis in preparing datasets for machine learning tasks. By employing steps such as language filtering, tokenization, and addressing data imbalances, we ensured the dataset was clean and reliable, which directly contributed to the success of the models. Insights from Exploratory Data Analysis (EDA) guided the selection of machine learning techniques, ensuring that each method was aligned with the characteristics of the data.\n",
        "\n",
        "In conclusion, this project successfully demonstrated the potential of machine learning in addressing societal challenges like hate speech detection. By combining rigorous preprocessing, advanced NLP techniques, and detailed performance analysis, we created a framework that not only achieves accurate classification with 91.18% accuracy. This work contributes to the broader goal of creating safer and more inclusive digital environments.\n",
        "\n",
        "\n",
        "\n",
        "\n",
        "\n",
        "\n"
      ],
      "metadata": {
        "id": "Nu4nyyzCIpKt"
      },
      "id": "Nu4nyyzCIpKt"
    },
    {
      "cell_type": "code",
      "source": [],
      "metadata": {
        "id": "8QJKxXNEXqB6"
      },
      "id": "8QJKxXNEXqB6",
      "execution_count": null,
      "outputs": []
    }
  ],
  "metadata": {
    "kernelspec": {
      "display_name": "Python 3",
      "name": "python3"
    },
    "language_info": {
      "codemirror_mode": {
        "name": "ipython",
        "version": 3
      },
      "file_extension": ".py",
      "mimetype": "text/x-python",
      "name": "python",
      "nbconvert_exporter": "python",
      "pygments_lexer": "ipython3",
      "version": "3.12.7"
    },
    "colab": {
      "provenance": [],
      "gpuType": "T4"
    },
    "accelerator": "GPU",
    "widgets": {
      "application/vnd.jupyter.widget-state+json": {
        "7e680c34b0bf4ba396ea259aecd3e8e5": {
          "model_module": "@jupyter-widgets/controls",
          "model_name": "HBoxModel",
          "model_module_version": "1.5.0",
          "state": {
            "_dom_classes": [],
            "_model_module": "@jupyter-widgets/controls",
            "_model_module_version": "1.5.0",
            "_model_name": "HBoxModel",
            "_view_count": null,
            "_view_module": "@jupyter-widgets/controls",
            "_view_module_version": "1.5.0",
            "_view_name": "HBoxView",
            "box_style": "",
            "children": [
              "IPY_MODEL_37a2fb6db3c946e2b54391745432d25e",
              "IPY_MODEL_e9bcdddade8f42e093171cbfc7439781",
              "IPY_MODEL_6baca60837c64706b484727f7de8b900"
            ],
            "layout": "IPY_MODEL_0f57d11e202d4be6912f75de4d4571d4"
          }
        },
        "37a2fb6db3c946e2b54391745432d25e": {
          "model_module": "@jupyter-widgets/controls",
          "model_name": "HTMLModel",
          "model_module_version": "1.5.0",
          "state": {
            "_dom_classes": [],
            "_model_module": "@jupyter-widgets/controls",
            "_model_module_version": "1.5.0",
            "_model_name": "HTMLModel",
            "_view_count": null,
            "_view_module": "@jupyter-widgets/controls",
            "_view_module_version": "1.5.0",
            "_view_name": "HTMLView",
            "description": "",
            "description_tooltip": null,
            "layout": "IPY_MODEL_d876943c5b6c497082774c04ad512ce5",
            "placeholder": "​",
            "style": "IPY_MODEL_89ef8e8ba5d24d0cb653a4537b377cb9",
            "value": "tokenizer_config.json: 100%"
          }
        },
        "e9bcdddade8f42e093171cbfc7439781": {
          "model_module": "@jupyter-widgets/controls",
          "model_name": "FloatProgressModel",
          "model_module_version": "1.5.0",
          "state": {
            "_dom_classes": [],
            "_model_module": "@jupyter-widgets/controls",
            "_model_module_version": "1.5.0",
            "_model_name": "FloatProgressModel",
            "_view_count": null,
            "_view_module": "@jupyter-widgets/controls",
            "_view_module_version": "1.5.0",
            "_view_name": "ProgressView",
            "bar_style": "success",
            "description": "",
            "description_tooltip": null,
            "layout": "IPY_MODEL_9567c5b3884a49a7aef204d4dc285ee9",
            "max": 48,
            "min": 0,
            "orientation": "horizontal",
            "style": "IPY_MODEL_e483284238094acc9614a8d46557f15f",
            "value": 48
          }
        },
        "6baca60837c64706b484727f7de8b900": {
          "model_module": "@jupyter-widgets/controls",
          "model_name": "HTMLModel",
          "model_module_version": "1.5.0",
          "state": {
            "_dom_classes": [],
            "_model_module": "@jupyter-widgets/controls",
            "_model_module_version": "1.5.0",
            "_model_name": "HTMLModel",
            "_view_count": null,
            "_view_module": "@jupyter-widgets/controls",
            "_view_module_version": "1.5.0",
            "_view_name": "HTMLView",
            "description": "",
            "description_tooltip": null,
            "layout": "IPY_MODEL_2443ca8ff64049ca9db74e480c0b9768",
            "placeholder": "​",
            "style": "IPY_MODEL_7d5dc8cc7d19453595b074ab750b3f56",
            "value": " 48.0/48.0 [00:00&lt;00:00, 2.08kB/s]"
          }
        },
        "0f57d11e202d4be6912f75de4d4571d4": {
          "model_module": "@jupyter-widgets/base",
          "model_name": "LayoutModel",
          "model_module_version": "1.2.0",
          "state": {
            "_model_module": "@jupyter-widgets/base",
            "_model_module_version": "1.2.0",
            "_model_name": "LayoutModel",
            "_view_count": null,
            "_view_module": "@jupyter-widgets/base",
            "_view_module_version": "1.2.0",
            "_view_name": "LayoutView",
            "align_content": null,
            "align_items": null,
            "align_self": null,
            "border": null,
            "bottom": null,
            "display": null,
            "flex": null,
            "flex_flow": null,
            "grid_area": null,
            "grid_auto_columns": null,
            "grid_auto_flow": null,
            "grid_auto_rows": null,
            "grid_column": null,
            "grid_gap": null,
            "grid_row": null,
            "grid_template_areas": null,
            "grid_template_columns": null,
            "grid_template_rows": null,
            "height": null,
            "justify_content": null,
            "justify_items": null,
            "left": null,
            "margin": null,
            "max_height": null,
            "max_width": null,
            "min_height": null,
            "min_width": null,
            "object_fit": null,
            "object_position": null,
            "order": null,
            "overflow": null,
            "overflow_x": null,
            "overflow_y": null,
            "padding": null,
            "right": null,
            "top": null,
            "visibility": null,
            "width": null
          }
        },
        "d876943c5b6c497082774c04ad512ce5": {
          "model_module": "@jupyter-widgets/base",
          "model_name": "LayoutModel",
          "model_module_version": "1.2.0",
          "state": {
            "_model_module": "@jupyter-widgets/base",
            "_model_module_version": "1.2.0",
            "_model_name": "LayoutModel",
            "_view_count": null,
            "_view_module": "@jupyter-widgets/base",
            "_view_module_version": "1.2.0",
            "_view_name": "LayoutView",
            "align_content": null,
            "align_items": null,
            "align_self": null,
            "border": null,
            "bottom": null,
            "display": null,
            "flex": null,
            "flex_flow": null,
            "grid_area": null,
            "grid_auto_columns": null,
            "grid_auto_flow": null,
            "grid_auto_rows": null,
            "grid_column": null,
            "grid_gap": null,
            "grid_row": null,
            "grid_template_areas": null,
            "grid_template_columns": null,
            "grid_template_rows": null,
            "height": null,
            "justify_content": null,
            "justify_items": null,
            "left": null,
            "margin": null,
            "max_height": null,
            "max_width": null,
            "min_height": null,
            "min_width": null,
            "object_fit": null,
            "object_position": null,
            "order": null,
            "overflow": null,
            "overflow_x": null,
            "overflow_y": null,
            "padding": null,
            "right": null,
            "top": null,
            "visibility": null,
            "width": null
          }
        },
        "89ef8e8ba5d24d0cb653a4537b377cb9": {
          "model_module": "@jupyter-widgets/controls",
          "model_name": "DescriptionStyleModel",
          "model_module_version": "1.5.0",
          "state": {
            "_model_module": "@jupyter-widgets/controls",
            "_model_module_version": "1.5.0",
            "_model_name": "DescriptionStyleModel",
            "_view_count": null,
            "_view_module": "@jupyter-widgets/base",
            "_view_module_version": "1.2.0",
            "_view_name": "StyleView",
            "description_width": ""
          }
        },
        "9567c5b3884a49a7aef204d4dc285ee9": {
          "model_module": "@jupyter-widgets/base",
          "model_name": "LayoutModel",
          "model_module_version": "1.2.0",
          "state": {
            "_model_module": "@jupyter-widgets/base",
            "_model_module_version": "1.2.0",
            "_model_name": "LayoutModel",
            "_view_count": null,
            "_view_module": "@jupyter-widgets/base",
            "_view_module_version": "1.2.0",
            "_view_name": "LayoutView",
            "align_content": null,
            "align_items": null,
            "align_self": null,
            "border": null,
            "bottom": null,
            "display": null,
            "flex": null,
            "flex_flow": null,
            "grid_area": null,
            "grid_auto_columns": null,
            "grid_auto_flow": null,
            "grid_auto_rows": null,
            "grid_column": null,
            "grid_gap": null,
            "grid_row": null,
            "grid_template_areas": null,
            "grid_template_columns": null,
            "grid_template_rows": null,
            "height": null,
            "justify_content": null,
            "justify_items": null,
            "left": null,
            "margin": null,
            "max_height": null,
            "max_width": null,
            "min_height": null,
            "min_width": null,
            "object_fit": null,
            "object_position": null,
            "order": null,
            "overflow": null,
            "overflow_x": null,
            "overflow_y": null,
            "padding": null,
            "right": null,
            "top": null,
            "visibility": null,
            "width": null
          }
        },
        "e483284238094acc9614a8d46557f15f": {
          "model_module": "@jupyter-widgets/controls",
          "model_name": "ProgressStyleModel",
          "model_module_version": "1.5.0",
          "state": {
            "_model_module": "@jupyter-widgets/controls",
            "_model_module_version": "1.5.0",
            "_model_name": "ProgressStyleModel",
            "_view_count": null,
            "_view_module": "@jupyter-widgets/base",
            "_view_module_version": "1.2.0",
            "_view_name": "StyleView",
            "bar_color": null,
            "description_width": ""
          }
        },
        "2443ca8ff64049ca9db74e480c0b9768": {
          "model_module": "@jupyter-widgets/base",
          "model_name": "LayoutModel",
          "model_module_version": "1.2.0",
          "state": {
            "_model_module": "@jupyter-widgets/base",
            "_model_module_version": "1.2.0",
            "_model_name": "LayoutModel",
            "_view_count": null,
            "_view_module": "@jupyter-widgets/base",
            "_view_module_version": "1.2.0",
            "_view_name": "LayoutView",
            "align_content": null,
            "align_items": null,
            "align_self": null,
            "border": null,
            "bottom": null,
            "display": null,
            "flex": null,
            "flex_flow": null,
            "grid_area": null,
            "grid_auto_columns": null,
            "grid_auto_flow": null,
            "grid_auto_rows": null,
            "grid_column": null,
            "grid_gap": null,
            "grid_row": null,
            "grid_template_areas": null,
            "grid_template_columns": null,
            "grid_template_rows": null,
            "height": null,
            "justify_content": null,
            "justify_items": null,
            "left": null,
            "margin": null,
            "max_height": null,
            "max_width": null,
            "min_height": null,
            "min_width": null,
            "object_fit": null,
            "object_position": null,
            "order": null,
            "overflow": null,
            "overflow_x": null,
            "overflow_y": null,
            "padding": null,
            "right": null,
            "top": null,
            "visibility": null,
            "width": null
          }
        },
        "7d5dc8cc7d19453595b074ab750b3f56": {
          "model_module": "@jupyter-widgets/controls",
          "model_name": "DescriptionStyleModel",
          "model_module_version": "1.5.0",
          "state": {
            "_model_module": "@jupyter-widgets/controls",
            "_model_module_version": "1.5.0",
            "_model_name": "DescriptionStyleModel",
            "_view_count": null,
            "_view_module": "@jupyter-widgets/base",
            "_view_module_version": "1.2.0",
            "_view_name": "StyleView",
            "description_width": ""
          }
        },
        "61422587474e47f7bf62dd6c4be70da5": {
          "model_module": "@jupyter-widgets/controls",
          "model_name": "HBoxModel",
          "model_module_version": "1.5.0",
          "state": {
            "_dom_classes": [],
            "_model_module": "@jupyter-widgets/controls",
            "_model_module_version": "1.5.0",
            "_model_name": "HBoxModel",
            "_view_count": null,
            "_view_module": "@jupyter-widgets/controls",
            "_view_module_version": "1.5.0",
            "_view_name": "HBoxView",
            "box_style": "",
            "children": [
              "IPY_MODEL_ab7f69ed132f4669a3c1049ed6edf4b7",
              "IPY_MODEL_e00924d040734b31ba38d9367301b804",
              "IPY_MODEL_f11e733962874ea1ab4a19b337b05a57"
            ],
            "layout": "IPY_MODEL_6eef03c870b54801ae272aa8c19d0a3c"
          }
        },
        "ab7f69ed132f4669a3c1049ed6edf4b7": {
          "model_module": "@jupyter-widgets/controls",
          "model_name": "HTMLModel",
          "model_module_version": "1.5.0",
          "state": {
            "_dom_classes": [],
            "_model_module": "@jupyter-widgets/controls",
            "_model_module_version": "1.5.0",
            "_model_name": "HTMLModel",
            "_view_count": null,
            "_view_module": "@jupyter-widgets/controls",
            "_view_module_version": "1.5.0",
            "_view_name": "HTMLView",
            "description": "",
            "description_tooltip": null,
            "layout": "IPY_MODEL_d0d6b40a5ec240f68670f23599f471fd",
            "placeholder": "​",
            "style": "IPY_MODEL_7e654e558a264a00b89621d1a154b50d",
            "value": "vocab.txt: 100%"
          }
        },
        "e00924d040734b31ba38d9367301b804": {
          "model_module": "@jupyter-widgets/controls",
          "model_name": "FloatProgressModel",
          "model_module_version": "1.5.0",
          "state": {
            "_dom_classes": [],
            "_model_module": "@jupyter-widgets/controls",
            "_model_module_version": "1.5.0",
            "_model_name": "FloatProgressModel",
            "_view_count": null,
            "_view_module": "@jupyter-widgets/controls",
            "_view_module_version": "1.5.0",
            "_view_name": "ProgressView",
            "bar_style": "success",
            "description": "",
            "description_tooltip": null,
            "layout": "IPY_MODEL_28853f7a663f426da371c64a3c6090a1",
            "max": 231508,
            "min": 0,
            "orientation": "horizontal",
            "style": "IPY_MODEL_3ba79abad65c4303b7878de2e87f9c9a",
            "value": 231508
          }
        },
        "f11e733962874ea1ab4a19b337b05a57": {
          "model_module": "@jupyter-widgets/controls",
          "model_name": "HTMLModel",
          "model_module_version": "1.5.0",
          "state": {
            "_dom_classes": [],
            "_model_module": "@jupyter-widgets/controls",
            "_model_module_version": "1.5.0",
            "_model_name": "HTMLModel",
            "_view_count": null,
            "_view_module": "@jupyter-widgets/controls",
            "_view_module_version": "1.5.0",
            "_view_name": "HTMLView",
            "description": "",
            "description_tooltip": null,
            "layout": "IPY_MODEL_370e5ddb869b42bea1254d76d82fa5a9",
            "placeholder": "​",
            "style": "IPY_MODEL_62fc9ca678124427986907ded831f403",
            "value": " 232k/232k [00:00&lt;00:00, 13.3MB/s]"
          }
        },
        "6eef03c870b54801ae272aa8c19d0a3c": {
          "model_module": "@jupyter-widgets/base",
          "model_name": "LayoutModel",
          "model_module_version": "1.2.0",
          "state": {
            "_model_module": "@jupyter-widgets/base",
            "_model_module_version": "1.2.0",
            "_model_name": "LayoutModel",
            "_view_count": null,
            "_view_module": "@jupyter-widgets/base",
            "_view_module_version": "1.2.0",
            "_view_name": "LayoutView",
            "align_content": null,
            "align_items": null,
            "align_self": null,
            "border": null,
            "bottom": null,
            "display": null,
            "flex": null,
            "flex_flow": null,
            "grid_area": null,
            "grid_auto_columns": null,
            "grid_auto_flow": null,
            "grid_auto_rows": null,
            "grid_column": null,
            "grid_gap": null,
            "grid_row": null,
            "grid_template_areas": null,
            "grid_template_columns": null,
            "grid_template_rows": null,
            "height": null,
            "justify_content": null,
            "justify_items": null,
            "left": null,
            "margin": null,
            "max_height": null,
            "max_width": null,
            "min_height": null,
            "min_width": null,
            "object_fit": null,
            "object_position": null,
            "order": null,
            "overflow": null,
            "overflow_x": null,
            "overflow_y": null,
            "padding": null,
            "right": null,
            "top": null,
            "visibility": null,
            "width": null
          }
        },
        "d0d6b40a5ec240f68670f23599f471fd": {
          "model_module": "@jupyter-widgets/base",
          "model_name": "LayoutModel",
          "model_module_version": "1.2.0",
          "state": {
            "_model_module": "@jupyter-widgets/base",
            "_model_module_version": "1.2.0",
            "_model_name": "LayoutModel",
            "_view_count": null,
            "_view_module": "@jupyter-widgets/base",
            "_view_module_version": "1.2.0",
            "_view_name": "LayoutView",
            "align_content": null,
            "align_items": null,
            "align_self": null,
            "border": null,
            "bottom": null,
            "display": null,
            "flex": null,
            "flex_flow": null,
            "grid_area": null,
            "grid_auto_columns": null,
            "grid_auto_flow": null,
            "grid_auto_rows": null,
            "grid_column": null,
            "grid_gap": null,
            "grid_row": null,
            "grid_template_areas": null,
            "grid_template_columns": null,
            "grid_template_rows": null,
            "height": null,
            "justify_content": null,
            "justify_items": null,
            "left": null,
            "margin": null,
            "max_height": null,
            "max_width": null,
            "min_height": null,
            "min_width": null,
            "object_fit": null,
            "object_position": null,
            "order": null,
            "overflow": null,
            "overflow_x": null,
            "overflow_y": null,
            "padding": null,
            "right": null,
            "top": null,
            "visibility": null,
            "width": null
          }
        },
        "7e654e558a264a00b89621d1a154b50d": {
          "model_module": "@jupyter-widgets/controls",
          "model_name": "DescriptionStyleModel",
          "model_module_version": "1.5.0",
          "state": {
            "_model_module": "@jupyter-widgets/controls",
            "_model_module_version": "1.5.0",
            "_model_name": "DescriptionStyleModel",
            "_view_count": null,
            "_view_module": "@jupyter-widgets/base",
            "_view_module_version": "1.2.0",
            "_view_name": "StyleView",
            "description_width": ""
          }
        },
        "28853f7a663f426da371c64a3c6090a1": {
          "model_module": "@jupyter-widgets/base",
          "model_name": "LayoutModel",
          "model_module_version": "1.2.0",
          "state": {
            "_model_module": "@jupyter-widgets/base",
            "_model_module_version": "1.2.0",
            "_model_name": "LayoutModel",
            "_view_count": null,
            "_view_module": "@jupyter-widgets/base",
            "_view_module_version": "1.2.0",
            "_view_name": "LayoutView",
            "align_content": null,
            "align_items": null,
            "align_self": null,
            "border": null,
            "bottom": null,
            "display": null,
            "flex": null,
            "flex_flow": null,
            "grid_area": null,
            "grid_auto_columns": null,
            "grid_auto_flow": null,
            "grid_auto_rows": null,
            "grid_column": null,
            "grid_gap": null,
            "grid_row": null,
            "grid_template_areas": null,
            "grid_template_columns": null,
            "grid_template_rows": null,
            "height": null,
            "justify_content": null,
            "justify_items": null,
            "left": null,
            "margin": null,
            "max_height": null,
            "max_width": null,
            "min_height": null,
            "min_width": null,
            "object_fit": null,
            "object_position": null,
            "order": null,
            "overflow": null,
            "overflow_x": null,
            "overflow_y": null,
            "padding": null,
            "right": null,
            "top": null,
            "visibility": null,
            "width": null
          }
        },
        "3ba79abad65c4303b7878de2e87f9c9a": {
          "model_module": "@jupyter-widgets/controls",
          "model_name": "ProgressStyleModel",
          "model_module_version": "1.5.0",
          "state": {
            "_model_module": "@jupyter-widgets/controls",
            "_model_module_version": "1.5.0",
            "_model_name": "ProgressStyleModel",
            "_view_count": null,
            "_view_module": "@jupyter-widgets/base",
            "_view_module_version": "1.2.0",
            "_view_name": "StyleView",
            "bar_color": null,
            "description_width": ""
          }
        },
        "370e5ddb869b42bea1254d76d82fa5a9": {
          "model_module": "@jupyter-widgets/base",
          "model_name": "LayoutModel",
          "model_module_version": "1.2.0",
          "state": {
            "_model_module": "@jupyter-widgets/base",
            "_model_module_version": "1.2.0",
            "_model_name": "LayoutModel",
            "_view_count": null,
            "_view_module": "@jupyter-widgets/base",
            "_view_module_version": "1.2.0",
            "_view_name": "LayoutView",
            "align_content": null,
            "align_items": null,
            "align_self": null,
            "border": null,
            "bottom": null,
            "display": null,
            "flex": null,
            "flex_flow": null,
            "grid_area": null,
            "grid_auto_columns": null,
            "grid_auto_flow": null,
            "grid_auto_rows": null,
            "grid_column": null,
            "grid_gap": null,
            "grid_row": null,
            "grid_template_areas": null,
            "grid_template_columns": null,
            "grid_template_rows": null,
            "height": null,
            "justify_content": null,
            "justify_items": null,
            "left": null,
            "margin": null,
            "max_height": null,
            "max_width": null,
            "min_height": null,
            "min_width": null,
            "object_fit": null,
            "object_position": null,
            "order": null,
            "overflow": null,
            "overflow_x": null,
            "overflow_y": null,
            "padding": null,
            "right": null,
            "top": null,
            "visibility": null,
            "width": null
          }
        },
        "62fc9ca678124427986907ded831f403": {
          "model_module": "@jupyter-widgets/controls",
          "model_name": "DescriptionStyleModel",
          "model_module_version": "1.5.0",
          "state": {
            "_model_module": "@jupyter-widgets/controls",
            "_model_module_version": "1.5.0",
            "_model_name": "DescriptionStyleModel",
            "_view_count": null,
            "_view_module": "@jupyter-widgets/base",
            "_view_module_version": "1.2.0",
            "_view_name": "StyleView",
            "description_width": ""
          }
        },
        "51232cd3fdab4b7d9f7a4be6fb303d06": {
          "model_module": "@jupyter-widgets/controls",
          "model_name": "HBoxModel",
          "model_module_version": "1.5.0",
          "state": {
            "_dom_classes": [],
            "_model_module": "@jupyter-widgets/controls",
            "_model_module_version": "1.5.0",
            "_model_name": "HBoxModel",
            "_view_count": null,
            "_view_module": "@jupyter-widgets/controls",
            "_view_module_version": "1.5.0",
            "_view_name": "HBoxView",
            "box_style": "",
            "children": [
              "IPY_MODEL_8aec378b2b4140eeb95a2c9ca3dbbca4",
              "IPY_MODEL_d002963edf7141f0829bb894424f050f",
              "IPY_MODEL_47583b211bbf4f808b48a8cbbb965df2"
            ],
            "layout": "IPY_MODEL_6026284396dd4e819defd0841993a035"
          }
        },
        "8aec378b2b4140eeb95a2c9ca3dbbca4": {
          "model_module": "@jupyter-widgets/controls",
          "model_name": "HTMLModel",
          "model_module_version": "1.5.0",
          "state": {
            "_dom_classes": [],
            "_model_module": "@jupyter-widgets/controls",
            "_model_module_version": "1.5.0",
            "_model_name": "HTMLModel",
            "_view_count": null,
            "_view_module": "@jupyter-widgets/controls",
            "_view_module_version": "1.5.0",
            "_view_name": "HTMLView",
            "description": "",
            "description_tooltip": null,
            "layout": "IPY_MODEL_b4373de11aa74185915537fa8f2c510f",
            "placeholder": "​",
            "style": "IPY_MODEL_fed822d8deb647cb8e74cd3fc4e3a37a",
            "value": "tokenizer.json: 100%"
          }
        },
        "d002963edf7141f0829bb894424f050f": {
          "model_module": "@jupyter-widgets/controls",
          "model_name": "FloatProgressModel",
          "model_module_version": "1.5.0",
          "state": {
            "_dom_classes": [],
            "_model_module": "@jupyter-widgets/controls",
            "_model_module_version": "1.5.0",
            "_model_name": "FloatProgressModel",
            "_view_count": null,
            "_view_module": "@jupyter-widgets/controls",
            "_view_module_version": "1.5.0",
            "_view_name": "ProgressView",
            "bar_style": "success",
            "description": "",
            "description_tooltip": null,
            "layout": "IPY_MODEL_0f01c5158e3045cc8b05a65991760c3b",
            "max": 466062,
            "min": 0,
            "orientation": "horizontal",
            "style": "IPY_MODEL_a509679965eb451281d428895efd222b",
            "value": 466062
          }
        },
        "47583b211bbf4f808b48a8cbbb965df2": {
          "model_module": "@jupyter-widgets/controls",
          "model_name": "HTMLModel",
          "model_module_version": "1.5.0",
          "state": {
            "_dom_classes": [],
            "_model_module": "@jupyter-widgets/controls",
            "_model_module_version": "1.5.0",
            "_model_name": "HTMLModel",
            "_view_count": null,
            "_view_module": "@jupyter-widgets/controls",
            "_view_module_version": "1.5.0",
            "_view_name": "HTMLView",
            "description": "",
            "description_tooltip": null,
            "layout": "IPY_MODEL_b5a2a1a08e6d4186807d35b9f4df3afd",
            "placeholder": "​",
            "style": "IPY_MODEL_ea69ffdb183c4c61bea7929f5031f9af",
            "value": " 466k/466k [00:00&lt;00:00, 28.0MB/s]"
          }
        },
        "6026284396dd4e819defd0841993a035": {
          "model_module": "@jupyter-widgets/base",
          "model_name": "LayoutModel",
          "model_module_version": "1.2.0",
          "state": {
            "_model_module": "@jupyter-widgets/base",
            "_model_module_version": "1.2.0",
            "_model_name": "LayoutModel",
            "_view_count": null,
            "_view_module": "@jupyter-widgets/base",
            "_view_module_version": "1.2.0",
            "_view_name": "LayoutView",
            "align_content": null,
            "align_items": null,
            "align_self": null,
            "border": null,
            "bottom": null,
            "display": null,
            "flex": null,
            "flex_flow": null,
            "grid_area": null,
            "grid_auto_columns": null,
            "grid_auto_flow": null,
            "grid_auto_rows": null,
            "grid_column": null,
            "grid_gap": null,
            "grid_row": null,
            "grid_template_areas": null,
            "grid_template_columns": null,
            "grid_template_rows": null,
            "height": null,
            "justify_content": null,
            "justify_items": null,
            "left": null,
            "margin": null,
            "max_height": null,
            "max_width": null,
            "min_height": null,
            "min_width": null,
            "object_fit": null,
            "object_position": null,
            "order": null,
            "overflow": null,
            "overflow_x": null,
            "overflow_y": null,
            "padding": null,
            "right": null,
            "top": null,
            "visibility": null,
            "width": null
          }
        },
        "b4373de11aa74185915537fa8f2c510f": {
          "model_module": "@jupyter-widgets/base",
          "model_name": "LayoutModel",
          "model_module_version": "1.2.0",
          "state": {
            "_model_module": "@jupyter-widgets/base",
            "_model_module_version": "1.2.0",
            "_model_name": "LayoutModel",
            "_view_count": null,
            "_view_module": "@jupyter-widgets/base",
            "_view_module_version": "1.2.0",
            "_view_name": "LayoutView",
            "align_content": null,
            "align_items": null,
            "align_self": null,
            "border": null,
            "bottom": null,
            "display": null,
            "flex": null,
            "flex_flow": null,
            "grid_area": null,
            "grid_auto_columns": null,
            "grid_auto_flow": null,
            "grid_auto_rows": null,
            "grid_column": null,
            "grid_gap": null,
            "grid_row": null,
            "grid_template_areas": null,
            "grid_template_columns": null,
            "grid_template_rows": null,
            "height": null,
            "justify_content": null,
            "justify_items": null,
            "left": null,
            "margin": null,
            "max_height": null,
            "max_width": null,
            "min_height": null,
            "min_width": null,
            "object_fit": null,
            "object_position": null,
            "order": null,
            "overflow": null,
            "overflow_x": null,
            "overflow_y": null,
            "padding": null,
            "right": null,
            "top": null,
            "visibility": null,
            "width": null
          }
        },
        "fed822d8deb647cb8e74cd3fc4e3a37a": {
          "model_module": "@jupyter-widgets/controls",
          "model_name": "DescriptionStyleModel",
          "model_module_version": "1.5.0",
          "state": {
            "_model_module": "@jupyter-widgets/controls",
            "_model_module_version": "1.5.0",
            "_model_name": "DescriptionStyleModel",
            "_view_count": null,
            "_view_module": "@jupyter-widgets/base",
            "_view_module_version": "1.2.0",
            "_view_name": "StyleView",
            "description_width": ""
          }
        },
        "0f01c5158e3045cc8b05a65991760c3b": {
          "model_module": "@jupyter-widgets/base",
          "model_name": "LayoutModel",
          "model_module_version": "1.2.0",
          "state": {
            "_model_module": "@jupyter-widgets/base",
            "_model_module_version": "1.2.0",
            "_model_name": "LayoutModel",
            "_view_count": null,
            "_view_module": "@jupyter-widgets/base",
            "_view_module_version": "1.2.0",
            "_view_name": "LayoutView",
            "align_content": null,
            "align_items": null,
            "align_self": null,
            "border": null,
            "bottom": null,
            "display": null,
            "flex": null,
            "flex_flow": null,
            "grid_area": null,
            "grid_auto_columns": null,
            "grid_auto_flow": null,
            "grid_auto_rows": null,
            "grid_column": null,
            "grid_gap": null,
            "grid_row": null,
            "grid_template_areas": null,
            "grid_template_columns": null,
            "grid_template_rows": null,
            "height": null,
            "justify_content": null,
            "justify_items": null,
            "left": null,
            "margin": null,
            "max_height": null,
            "max_width": null,
            "min_height": null,
            "min_width": null,
            "object_fit": null,
            "object_position": null,
            "order": null,
            "overflow": null,
            "overflow_x": null,
            "overflow_y": null,
            "padding": null,
            "right": null,
            "top": null,
            "visibility": null,
            "width": null
          }
        },
        "a509679965eb451281d428895efd222b": {
          "model_module": "@jupyter-widgets/controls",
          "model_name": "ProgressStyleModel",
          "model_module_version": "1.5.0",
          "state": {
            "_model_module": "@jupyter-widgets/controls",
            "_model_module_version": "1.5.0",
            "_model_name": "ProgressStyleModel",
            "_view_count": null,
            "_view_module": "@jupyter-widgets/base",
            "_view_module_version": "1.2.0",
            "_view_name": "StyleView",
            "bar_color": null,
            "description_width": ""
          }
        },
        "b5a2a1a08e6d4186807d35b9f4df3afd": {
          "model_module": "@jupyter-widgets/base",
          "model_name": "LayoutModel",
          "model_module_version": "1.2.0",
          "state": {
            "_model_module": "@jupyter-widgets/base",
            "_model_module_version": "1.2.0",
            "_model_name": "LayoutModel",
            "_view_count": null,
            "_view_module": "@jupyter-widgets/base",
            "_view_module_version": "1.2.0",
            "_view_name": "LayoutView",
            "align_content": null,
            "align_items": null,
            "align_self": null,
            "border": null,
            "bottom": null,
            "display": null,
            "flex": null,
            "flex_flow": null,
            "grid_area": null,
            "grid_auto_columns": null,
            "grid_auto_flow": null,
            "grid_auto_rows": null,
            "grid_column": null,
            "grid_gap": null,
            "grid_row": null,
            "grid_template_areas": null,
            "grid_template_columns": null,
            "grid_template_rows": null,
            "height": null,
            "justify_content": null,
            "justify_items": null,
            "left": null,
            "margin": null,
            "max_height": null,
            "max_width": null,
            "min_height": null,
            "min_width": null,
            "object_fit": null,
            "object_position": null,
            "order": null,
            "overflow": null,
            "overflow_x": null,
            "overflow_y": null,
            "padding": null,
            "right": null,
            "top": null,
            "visibility": null,
            "width": null
          }
        },
        "ea69ffdb183c4c61bea7929f5031f9af": {
          "model_module": "@jupyter-widgets/controls",
          "model_name": "DescriptionStyleModel",
          "model_module_version": "1.5.0",
          "state": {
            "_model_module": "@jupyter-widgets/controls",
            "_model_module_version": "1.5.0",
            "_model_name": "DescriptionStyleModel",
            "_view_count": null,
            "_view_module": "@jupyter-widgets/base",
            "_view_module_version": "1.2.0",
            "_view_name": "StyleView",
            "description_width": ""
          }
        },
        "e876adf673054b458c45859d9b09a436": {
          "model_module": "@jupyter-widgets/controls",
          "model_name": "HBoxModel",
          "model_module_version": "1.5.0",
          "state": {
            "_dom_classes": [],
            "_model_module": "@jupyter-widgets/controls",
            "_model_module_version": "1.5.0",
            "_model_name": "HBoxModel",
            "_view_count": null,
            "_view_module": "@jupyter-widgets/controls",
            "_view_module_version": "1.5.0",
            "_view_name": "HBoxView",
            "box_style": "",
            "children": [
              "IPY_MODEL_f90a7ef54ba14573be7bddb4ebc32f9f",
              "IPY_MODEL_a8fd5e50421d438c9a5b39ffc04805d7",
              "IPY_MODEL_4463ff4d07c34e659081d8d4966563e8"
            ],
            "layout": "IPY_MODEL_b6d4a71eea1b43dfa3d465c2d9f55f6b"
          }
        },
        "f90a7ef54ba14573be7bddb4ebc32f9f": {
          "model_module": "@jupyter-widgets/controls",
          "model_name": "HTMLModel",
          "model_module_version": "1.5.0",
          "state": {
            "_dom_classes": [],
            "_model_module": "@jupyter-widgets/controls",
            "_model_module_version": "1.5.0",
            "_model_name": "HTMLModel",
            "_view_count": null,
            "_view_module": "@jupyter-widgets/controls",
            "_view_module_version": "1.5.0",
            "_view_name": "HTMLView",
            "description": "",
            "description_tooltip": null,
            "layout": "IPY_MODEL_3f394d8f0db945f6a208389d08922c34",
            "placeholder": "​",
            "style": "IPY_MODEL_dcb93fa49074413785bb9e1a92ad46a7",
            "value": "config.json: 100%"
          }
        },
        "a8fd5e50421d438c9a5b39ffc04805d7": {
          "model_module": "@jupyter-widgets/controls",
          "model_name": "FloatProgressModel",
          "model_module_version": "1.5.0",
          "state": {
            "_dom_classes": [],
            "_model_module": "@jupyter-widgets/controls",
            "_model_module_version": "1.5.0",
            "_model_name": "FloatProgressModel",
            "_view_count": null,
            "_view_module": "@jupyter-widgets/controls",
            "_view_module_version": "1.5.0",
            "_view_name": "ProgressView",
            "bar_style": "success",
            "description": "",
            "description_tooltip": null,
            "layout": "IPY_MODEL_2dc9c9675dfc47e9bbf1e7ade006e757",
            "max": 483,
            "min": 0,
            "orientation": "horizontal",
            "style": "IPY_MODEL_5bf9f8fce05f4d84a3410c920496cb7b",
            "value": 483
          }
        },
        "4463ff4d07c34e659081d8d4966563e8": {
          "model_module": "@jupyter-widgets/controls",
          "model_name": "HTMLModel",
          "model_module_version": "1.5.0",
          "state": {
            "_dom_classes": [],
            "_model_module": "@jupyter-widgets/controls",
            "_model_module_version": "1.5.0",
            "_model_name": "HTMLModel",
            "_view_count": null,
            "_view_module": "@jupyter-widgets/controls",
            "_view_module_version": "1.5.0",
            "_view_name": "HTMLView",
            "description": "",
            "description_tooltip": null,
            "layout": "IPY_MODEL_f5b4b71d5444472eae0413771ff64b47",
            "placeholder": "​",
            "style": "IPY_MODEL_f06358a66fd84424a0fcca756d5c4438",
            "value": " 483/483 [00:00&lt;00:00, 33.6kB/s]"
          }
        },
        "b6d4a71eea1b43dfa3d465c2d9f55f6b": {
          "model_module": "@jupyter-widgets/base",
          "model_name": "LayoutModel",
          "model_module_version": "1.2.0",
          "state": {
            "_model_module": "@jupyter-widgets/base",
            "_model_module_version": "1.2.0",
            "_model_name": "LayoutModel",
            "_view_count": null,
            "_view_module": "@jupyter-widgets/base",
            "_view_module_version": "1.2.0",
            "_view_name": "LayoutView",
            "align_content": null,
            "align_items": null,
            "align_self": null,
            "border": null,
            "bottom": null,
            "display": null,
            "flex": null,
            "flex_flow": null,
            "grid_area": null,
            "grid_auto_columns": null,
            "grid_auto_flow": null,
            "grid_auto_rows": null,
            "grid_column": null,
            "grid_gap": null,
            "grid_row": null,
            "grid_template_areas": null,
            "grid_template_columns": null,
            "grid_template_rows": null,
            "height": null,
            "justify_content": null,
            "justify_items": null,
            "left": null,
            "margin": null,
            "max_height": null,
            "max_width": null,
            "min_height": null,
            "min_width": null,
            "object_fit": null,
            "object_position": null,
            "order": null,
            "overflow": null,
            "overflow_x": null,
            "overflow_y": null,
            "padding": null,
            "right": null,
            "top": null,
            "visibility": null,
            "width": null
          }
        },
        "3f394d8f0db945f6a208389d08922c34": {
          "model_module": "@jupyter-widgets/base",
          "model_name": "LayoutModel",
          "model_module_version": "1.2.0",
          "state": {
            "_model_module": "@jupyter-widgets/base",
            "_model_module_version": "1.2.0",
            "_model_name": "LayoutModel",
            "_view_count": null,
            "_view_module": "@jupyter-widgets/base",
            "_view_module_version": "1.2.0",
            "_view_name": "LayoutView",
            "align_content": null,
            "align_items": null,
            "align_self": null,
            "border": null,
            "bottom": null,
            "display": null,
            "flex": null,
            "flex_flow": null,
            "grid_area": null,
            "grid_auto_columns": null,
            "grid_auto_flow": null,
            "grid_auto_rows": null,
            "grid_column": null,
            "grid_gap": null,
            "grid_row": null,
            "grid_template_areas": null,
            "grid_template_columns": null,
            "grid_template_rows": null,
            "height": null,
            "justify_content": null,
            "justify_items": null,
            "left": null,
            "margin": null,
            "max_height": null,
            "max_width": null,
            "min_height": null,
            "min_width": null,
            "object_fit": null,
            "object_position": null,
            "order": null,
            "overflow": null,
            "overflow_x": null,
            "overflow_y": null,
            "padding": null,
            "right": null,
            "top": null,
            "visibility": null,
            "width": null
          }
        },
        "dcb93fa49074413785bb9e1a92ad46a7": {
          "model_module": "@jupyter-widgets/controls",
          "model_name": "DescriptionStyleModel",
          "model_module_version": "1.5.0",
          "state": {
            "_model_module": "@jupyter-widgets/controls",
            "_model_module_version": "1.5.0",
            "_model_name": "DescriptionStyleModel",
            "_view_count": null,
            "_view_module": "@jupyter-widgets/base",
            "_view_module_version": "1.2.0",
            "_view_name": "StyleView",
            "description_width": ""
          }
        },
        "2dc9c9675dfc47e9bbf1e7ade006e757": {
          "model_module": "@jupyter-widgets/base",
          "model_name": "LayoutModel",
          "model_module_version": "1.2.0",
          "state": {
            "_model_module": "@jupyter-widgets/base",
            "_model_module_version": "1.2.0",
            "_model_name": "LayoutModel",
            "_view_count": null,
            "_view_module": "@jupyter-widgets/base",
            "_view_module_version": "1.2.0",
            "_view_name": "LayoutView",
            "align_content": null,
            "align_items": null,
            "align_self": null,
            "border": null,
            "bottom": null,
            "display": null,
            "flex": null,
            "flex_flow": null,
            "grid_area": null,
            "grid_auto_columns": null,
            "grid_auto_flow": null,
            "grid_auto_rows": null,
            "grid_column": null,
            "grid_gap": null,
            "grid_row": null,
            "grid_template_areas": null,
            "grid_template_columns": null,
            "grid_template_rows": null,
            "height": null,
            "justify_content": null,
            "justify_items": null,
            "left": null,
            "margin": null,
            "max_height": null,
            "max_width": null,
            "min_height": null,
            "min_width": null,
            "object_fit": null,
            "object_position": null,
            "order": null,
            "overflow": null,
            "overflow_x": null,
            "overflow_y": null,
            "padding": null,
            "right": null,
            "top": null,
            "visibility": null,
            "width": null
          }
        },
        "5bf9f8fce05f4d84a3410c920496cb7b": {
          "model_module": "@jupyter-widgets/controls",
          "model_name": "ProgressStyleModel",
          "model_module_version": "1.5.0",
          "state": {
            "_model_module": "@jupyter-widgets/controls",
            "_model_module_version": "1.5.0",
            "_model_name": "ProgressStyleModel",
            "_view_count": null,
            "_view_module": "@jupyter-widgets/base",
            "_view_module_version": "1.2.0",
            "_view_name": "StyleView",
            "bar_color": null,
            "description_width": ""
          }
        },
        "f5b4b71d5444472eae0413771ff64b47": {
          "model_module": "@jupyter-widgets/base",
          "model_name": "LayoutModel",
          "model_module_version": "1.2.0",
          "state": {
            "_model_module": "@jupyter-widgets/base",
            "_model_module_version": "1.2.0",
            "_model_name": "LayoutModel",
            "_view_count": null,
            "_view_module": "@jupyter-widgets/base",
            "_view_module_version": "1.2.0",
            "_view_name": "LayoutView",
            "align_content": null,
            "align_items": null,
            "align_self": null,
            "border": null,
            "bottom": null,
            "display": null,
            "flex": null,
            "flex_flow": null,
            "grid_area": null,
            "grid_auto_columns": null,
            "grid_auto_flow": null,
            "grid_auto_rows": null,
            "grid_column": null,
            "grid_gap": null,
            "grid_row": null,
            "grid_template_areas": null,
            "grid_template_columns": null,
            "grid_template_rows": null,
            "height": null,
            "justify_content": null,
            "justify_items": null,
            "left": null,
            "margin": null,
            "max_height": null,
            "max_width": null,
            "min_height": null,
            "min_width": null,
            "object_fit": null,
            "object_position": null,
            "order": null,
            "overflow": null,
            "overflow_x": null,
            "overflow_y": null,
            "padding": null,
            "right": null,
            "top": null,
            "visibility": null,
            "width": null
          }
        },
        "f06358a66fd84424a0fcca756d5c4438": {
          "model_module": "@jupyter-widgets/controls",
          "model_name": "DescriptionStyleModel",
          "model_module_version": "1.5.0",
          "state": {
            "_model_module": "@jupyter-widgets/controls",
            "_model_module_version": "1.5.0",
            "_model_name": "DescriptionStyleModel",
            "_view_count": null,
            "_view_module": "@jupyter-widgets/base",
            "_view_module_version": "1.2.0",
            "_view_name": "StyleView",
            "description_width": ""
          }
        },
        "f102e8db692b4937b5861c64c6bac982": {
          "model_module": "@jupyter-widgets/controls",
          "model_name": "HBoxModel",
          "model_module_version": "1.5.0",
          "state": {
            "_dom_classes": [],
            "_model_module": "@jupyter-widgets/controls",
            "_model_module_version": "1.5.0",
            "_model_name": "HBoxModel",
            "_view_count": null,
            "_view_module": "@jupyter-widgets/controls",
            "_view_module_version": "1.5.0",
            "_view_name": "HBoxView",
            "box_style": "",
            "children": [
              "IPY_MODEL_ff1eeb4106e143968a77de4981b61653",
              "IPY_MODEL_aafed48eef084f39af2a95e69a642c0f",
              "IPY_MODEL_6eb39b6fd5db4c4995aaccd33575ca8f"
            ],
            "layout": "IPY_MODEL_013b4553f65a479f925f7f5035d1ecb9"
          }
        },
        "ff1eeb4106e143968a77de4981b61653": {
          "model_module": "@jupyter-widgets/controls",
          "model_name": "HTMLModel",
          "model_module_version": "1.5.0",
          "state": {
            "_dom_classes": [],
            "_model_module": "@jupyter-widgets/controls",
            "_model_module_version": "1.5.0",
            "_model_name": "HTMLModel",
            "_view_count": null,
            "_view_module": "@jupyter-widgets/controls",
            "_view_module_version": "1.5.0",
            "_view_name": "HTMLView",
            "description": "",
            "description_tooltip": null,
            "layout": "IPY_MODEL_e75caf00081148fb98b0726034b87592",
            "placeholder": "​",
            "style": "IPY_MODEL_8b255b4548e74000ac42232584eb38ed",
            "value": "model.safetensors: 100%"
          }
        },
        "aafed48eef084f39af2a95e69a642c0f": {
          "model_module": "@jupyter-widgets/controls",
          "model_name": "FloatProgressModel",
          "model_module_version": "1.5.0",
          "state": {
            "_dom_classes": [],
            "_model_module": "@jupyter-widgets/controls",
            "_model_module_version": "1.5.0",
            "_model_name": "FloatProgressModel",
            "_view_count": null,
            "_view_module": "@jupyter-widgets/controls",
            "_view_module_version": "1.5.0",
            "_view_name": "ProgressView",
            "bar_style": "success",
            "description": "",
            "description_tooltip": null,
            "layout": "IPY_MODEL_a8e4eed0e51f4691bab894d7d9170f28",
            "max": 267954768,
            "min": 0,
            "orientation": "horizontal",
            "style": "IPY_MODEL_782971c446704b359bd63ee0460c7641",
            "value": 267954768
          }
        },
        "6eb39b6fd5db4c4995aaccd33575ca8f": {
          "model_module": "@jupyter-widgets/controls",
          "model_name": "HTMLModel",
          "model_module_version": "1.5.0",
          "state": {
            "_dom_classes": [],
            "_model_module": "@jupyter-widgets/controls",
            "_model_module_version": "1.5.0",
            "_model_name": "HTMLModel",
            "_view_count": null,
            "_view_module": "@jupyter-widgets/controls",
            "_view_module_version": "1.5.0",
            "_view_name": "HTMLView",
            "description": "",
            "description_tooltip": null,
            "layout": "IPY_MODEL_80219c264f9c42c2bfc95ae247bc9fc3",
            "placeholder": "​",
            "style": "IPY_MODEL_cc90913816ed4912ab681c69bf3cd9bb",
            "value": " 268M/268M [00:01&lt;00:00, 223MB/s]"
          }
        },
        "013b4553f65a479f925f7f5035d1ecb9": {
          "model_module": "@jupyter-widgets/base",
          "model_name": "LayoutModel",
          "model_module_version": "1.2.0",
          "state": {
            "_model_module": "@jupyter-widgets/base",
            "_model_module_version": "1.2.0",
            "_model_name": "LayoutModel",
            "_view_count": null,
            "_view_module": "@jupyter-widgets/base",
            "_view_module_version": "1.2.0",
            "_view_name": "LayoutView",
            "align_content": null,
            "align_items": null,
            "align_self": null,
            "border": null,
            "bottom": null,
            "display": null,
            "flex": null,
            "flex_flow": null,
            "grid_area": null,
            "grid_auto_columns": null,
            "grid_auto_flow": null,
            "grid_auto_rows": null,
            "grid_column": null,
            "grid_gap": null,
            "grid_row": null,
            "grid_template_areas": null,
            "grid_template_columns": null,
            "grid_template_rows": null,
            "height": null,
            "justify_content": null,
            "justify_items": null,
            "left": null,
            "margin": null,
            "max_height": null,
            "max_width": null,
            "min_height": null,
            "min_width": null,
            "object_fit": null,
            "object_position": null,
            "order": null,
            "overflow": null,
            "overflow_x": null,
            "overflow_y": null,
            "padding": null,
            "right": null,
            "top": null,
            "visibility": null,
            "width": null
          }
        },
        "e75caf00081148fb98b0726034b87592": {
          "model_module": "@jupyter-widgets/base",
          "model_name": "LayoutModel",
          "model_module_version": "1.2.0",
          "state": {
            "_model_module": "@jupyter-widgets/base",
            "_model_module_version": "1.2.0",
            "_model_name": "LayoutModel",
            "_view_count": null,
            "_view_module": "@jupyter-widgets/base",
            "_view_module_version": "1.2.0",
            "_view_name": "LayoutView",
            "align_content": null,
            "align_items": null,
            "align_self": null,
            "border": null,
            "bottom": null,
            "display": null,
            "flex": null,
            "flex_flow": null,
            "grid_area": null,
            "grid_auto_columns": null,
            "grid_auto_flow": null,
            "grid_auto_rows": null,
            "grid_column": null,
            "grid_gap": null,
            "grid_row": null,
            "grid_template_areas": null,
            "grid_template_columns": null,
            "grid_template_rows": null,
            "height": null,
            "justify_content": null,
            "justify_items": null,
            "left": null,
            "margin": null,
            "max_height": null,
            "max_width": null,
            "min_height": null,
            "min_width": null,
            "object_fit": null,
            "object_position": null,
            "order": null,
            "overflow": null,
            "overflow_x": null,
            "overflow_y": null,
            "padding": null,
            "right": null,
            "top": null,
            "visibility": null,
            "width": null
          }
        },
        "8b255b4548e74000ac42232584eb38ed": {
          "model_module": "@jupyter-widgets/controls",
          "model_name": "DescriptionStyleModel",
          "model_module_version": "1.5.0",
          "state": {
            "_model_module": "@jupyter-widgets/controls",
            "_model_module_version": "1.5.0",
            "_model_name": "DescriptionStyleModel",
            "_view_count": null,
            "_view_module": "@jupyter-widgets/base",
            "_view_module_version": "1.2.0",
            "_view_name": "StyleView",
            "description_width": ""
          }
        },
        "a8e4eed0e51f4691bab894d7d9170f28": {
          "model_module": "@jupyter-widgets/base",
          "model_name": "LayoutModel",
          "model_module_version": "1.2.0",
          "state": {
            "_model_module": "@jupyter-widgets/base",
            "_model_module_version": "1.2.0",
            "_model_name": "LayoutModel",
            "_view_count": null,
            "_view_module": "@jupyter-widgets/base",
            "_view_module_version": "1.2.0",
            "_view_name": "LayoutView",
            "align_content": null,
            "align_items": null,
            "align_self": null,
            "border": null,
            "bottom": null,
            "display": null,
            "flex": null,
            "flex_flow": null,
            "grid_area": null,
            "grid_auto_columns": null,
            "grid_auto_flow": null,
            "grid_auto_rows": null,
            "grid_column": null,
            "grid_gap": null,
            "grid_row": null,
            "grid_template_areas": null,
            "grid_template_columns": null,
            "grid_template_rows": null,
            "height": null,
            "justify_content": null,
            "justify_items": null,
            "left": null,
            "margin": null,
            "max_height": null,
            "max_width": null,
            "min_height": null,
            "min_width": null,
            "object_fit": null,
            "object_position": null,
            "order": null,
            "overflow": null,
            "overflow_x": null,
            "overflow_y": null,
            "padding": null,
            "right": null,
            "top": null,
            "visibility": null,
            "width": null
          }
        },
        "782971c446704b359bd63ee0460c7641": {
          "model_module": "@jupyter-widgets/controls",
          "model_name": "ProgressStyleModel",
          "model_module_version": "1.5.0",
          "state": {
            "_model_module": "@jupyter-widgets/controls",
            "_model_module_version": "1.5.0",
            "_model_name": "ProgressStyleModel",
            "_view_count": null,
            "_view_module": "@jupyter-widgets/base",
            "_view_module_version": "1.2.0",
            "_view_name": "StyleView",
            "bar_color": null,
            "description_width": ""
          }
        },
        "80219c264f9c42c2bfc95ae247bc9fc3": {
          "model_module": "@jupyter-widgets/base",
          "model_name": "LayoutModel",
          "model_module_version": "1.2.0",
          "state": {
            "_model_module": "@jupyter-widgets/base",
            "_model_module_version": "1.2.0",
            "_model_name": "LayoutModel",
            "_view_count": null,
            "_view_module": "@jupyter-widgets/base",
            "_view_module_version": "1.2.0",
            "_view_name": "LayoutView",
            "align_content": null,
            "align_items": null,
            "align_self": null,
            "border": null,
            "bottom": null,
            "display": null,
            "flex": null,
            "flex_flow": null,
            "grid_area": null,
            "grid_auto_columns": null,
            "grid_auto_flow": null,
            "grid_auto_rows": null,
            "grid_column": null,
            "grid_gap": null,
            "grid_row": null,
            "grid_template_areas": null,
            "grid_template_columns": null,
            "grid_template_rows": null,
            "height": null,
            "justify_content": null,
            "justify_items": null,
            "left": null,
            "margin": null,
            "max_height": null,
            "max_width": null,
            "min_height": null,
            "min_width": null,
            "object_fit": null,
            "object_position": null,
            "order": null,
            "overflow": null,
            "overflow_x": null,
            "overflow_y": null,
            "padding": null,
            "right": null,
            "top": null,
            "visibility": null,
            "width": null
          }
        },
        "cc90913816ed4912ab681c69bf3cd9bb": {
          "model_module": "@jupyter-widgets/controls",
          "model_name": "DescriptionStyleModel",
          "model_module_version": "1.5.0",
          "state": {
            "_model_module": "@jupyter-widgets/controls",
            "_model_module_version": "1.5.0",
            "_model_name": "DescriptionStyleModel",
            "_view_count": null,
            "_view_module": "@jupyter-widgets/base",
            "_view_module_version": "1.2.0",
            "_view_name": "StyleView",
            "description_width": ""
          }
        }
      }
    }
  },
  "nbformat": 4,
  "nbformat_minor": 5
}